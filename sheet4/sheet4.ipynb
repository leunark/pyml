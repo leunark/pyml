{
 "cells": [
  {
   "attachments": {},
   "cell_type": "markdown",
   "metadata": {},
   "source": [
    "## Before you start working on the exercise\n",
    "\n",
    "- Use Python version 3.9 and above.\n",
    "- It is highly recommended to create a virtual environment for this course. You can find resources on how to create a virtual environment on the ISIS page of the course.\n",
    "- Make sure that no assertions fail or exceptions occur, otherwise points will be subtracted.\n",
    "- Use all the variables given to a function unless explicitly stated otherwise. If you are not using a variable you are doing something wrong.\n",
    "- Read the **whole** task description before starting with your solution.\n",
    "- After you submit the notebook more tests will be run on your code. The fact that no assertions fail on your computer locally does not guarantee that you completed the exercise correctly.\n",
    "- Please submit only the notebook file with its original name. If you do not submit an `ipynb` file you will fail the exercise.\n",
    "- Edit only between YOUR CODE HERE and END YOUR CODE.\n",
    "- Verify that no syntax errors are present in the file.\n",
    "- Before uploading your submission, make sure everything runs as expected. First, restart the kernel (in the menubar, select Kernel\\Restart) and then run all cells (in the menubar, select Cell\\Run All)."
   ]
  },
  {
   "cell_type": "code",
   "execution_count": 44,
   "metadata": {},
   "outputs": [
    {
     "name": "stdout",
     "output_type": "stream",
     "text": [
      "Correct Python version\n"
     ]
    }
   ],
   "source": [
    "import sys\n",
    "\n",
    "if (3, 9) <= sys.version_info[:2] <= (3, 11):\n",
    "    print(\"Correct Python version\")\n",
    "else:\n",
    "    print(\n",
    "        f\"You are using a wrong version of Python: {'.'.join(map(str,sys.version_info[:3]))}\"\n",
    "    )"
   ]
  },
  {
   "attachments": {},
   "cell_type": "markdown",
   "metadata": {
    "deletable": false,
    "editable": false,
    "nbgrader": {
     "cell_type": "markdown",
     "checksum": "b0ddcf04e08a5ed7bba991d1030a3a95",
     "grade": false,
     "grade_id": "cell-fa7773face2607ae",
     "locked": true,
     "schema_version": 3,
     "solution": false,
     "task": false
    }
   },
   "source": [
    "# Exercise Sheet 4: Sampling, Simulation"
   ]
  },
  {
   "attachments": {},
   "cell_type": "markdown",
   "metadata": {
    "deletable": false,
    "editable": false,
    "nbgrader": {
     "cell_type": "markdown",
     "checksum": "331fb394c6fc759027d3a0766f1d0b37",
     "grade": false,
     "grade_id": "cell-edfd6cd4afbab25d",
     "locked": true,
     "schema_version": 3,
     "solution": false,
     "task": false
    }
   },
   "source": [
    "In this exercise sheet, we will simulate a Markov chain. In the first part, we will consider a pure Python based implementation where a single particle jumps from one position to another of the lattice, where all transitions to neighboring states have the same probability. Then, we will add probabilities for the transitions. Finally, the implementation will be parallelized to run many chains in parallel.\n",
    "\n",
    "Keep in mind that you can get the documentation of modules and functions using the `help()` function."
   ]
  },
  {
   "cell_type": "code",
   "execution_count": 45,
   "metadata": {
    "deletable": false,
    "editable": false,
    "nbgrader": {
     "cell_type": "code",
     "checksum": "b33613c0417252aacd57a1cd80c109a3",
     "grade": true,
     "grade_id": "cell-4fad0ccdfaff95fb",
     "locked": true,
     "points": 0,
     "schema_version": 3,
     "solution": false,
     "task": false
    }
   },
   "outputs": [],
   "source": [
    "# This cell is for grading. DO NOT remove it\n",
    "import utils\n",
    "\n",
    "# Use unittest asserts\n",
    "import unittest\n",
    "t = unittest.TestCase()\n"
   ]
  },
  {
   "attachments": {},
   "cell_type": "markdown",
   "metadata": {
    "collapsed": true
   },
   "source": [
    "## Exercise 1: Random moves in a lattice (20 P)\n",
    "\n",
    "In this exercise, we will simulate the propagation of particles in a graph composed of 8 states (denoted by letters A-H) and stored in the variable `S` defined in the cell below. The lattice is the following:\n",
    "\n",
    "![](lattice.png)\n",
    "\n",
    "The particle starts in state `A` and then jumps randomly from its current state to one of its neighbors, all with same probability. Note that it cannot stay at the current position. The dictionary `T` defined in the cell below encode such transition behavior."
   ]
  },
  {
   "cell_type": "code",
   "execution_count": 46,
   "metadata": {},
   "outputs": [
    {
     "name": "stdout",
     "output_type": "stream",
     "text": [
      "States: ['A', 'B', 'C', 'D', 'E', 'F', 'G', 'H']\n",
      "Transitions: {'A': 'BE', 'B': 'AFC', 'C': 'BGD', 'D': 'CH', 'E': 'AF', 'F': 'EBG', 'G': 'FCH', 'H': 'GD'}\n"
     ]
    }
   ],
   "source": [
    "# List of states\n",
    "S = list(\"ABCDEFGH\")\n",
    "\n",
    "# Dictionary of transitions\n",
    "T = {\n",
    "    \"A\": \"BE\",\n",
    "    \"B\": \"AFC\",\n",
    "    \"C\": \"BGD\",\n",
    "    \"D\": \"CH\",\n",
    "    \"E\": \"AF\",\n",
    "    \"F\": \"EBG\",\n",
    "    \"G\": \"FCH\",\n",
    "    \"H\": \"GD\",\n",
    "}\n",
    "print(f\"States: {S}\")\n",
    "print(f\"Transitions: {T}\")"
   ]
  },
  {
   "attachments": {},
   "cell_type": "markdown",
   "metadata": {},
   "source": [
    "Using pure Python (i.e. no `numpy` functions), set the initial state to `A` and run it for 1999 iterations. Return the sequence of states visited by the particle as a list. Set the random seed of the module `random` to value `123` using the function `random.seed` before starting the simulation in order to produce deterministic results."
   ]
  },
  {
   "cell_type": "code",
   "execution_count": 47,
   "metadata": {
    "deletable": false,
    "editable": false,
    "nbgrader": {
     "cell_type": "code",
     "checksum": "0812fd65b1a5c790e87dddbddce595ec",
     "grade": false,
     "grade_id": "cell-75d8822ab2667085",
     "locked": true,
     "schema_version": 3,
     "solution": false,
     "task": false
    }
   },
   "outputs": [],
   "source": [
    "import random"
   ]
  },
  {
   "cell_type": "code",
   "execution_count": 48,
   "metadata": {
    "deletable": false,
    "nbgrader": {
     "cell_type": "code",
     "checksum": "bee83e1b2716e8a69b7979f64462300b",
     "grade": false,
     "grade_id": "cell-be8591ff18527982",
     "locked": false,
     "schema_version": 3,
     "solution": true
    }
   },
   "outputs": [],
   "source": [
    "def simulate(transitions):\n",
    "    \"\"\"\n",
    "    Simulates a markov chain defined by the above transitions.\n",
    "    This function always sets the random seed to `123`. All simulations start with\n",
    "    initial state `A`. It always simulates 2000 steps including the initial state.\n",
    "    Args:\n",
    "        transitions: A dictionary with eight keys [A-H]. For each key a string is\n",
    "        mapped as its value. Each of those strings can only contain the letters [A-H] each\n",
    "        letter can only appear once. `'A': 'BE'` means that from state `A` we can reach\n",
    "        the states `B` and `E` and no other state.\n",
    "    Returns:\n",
    "        A list of states (a string containing one of the letters [A-H])\n",
    "        that were visited during the simulation.\n",
    "    \"\"\"\n",
    "\n",
    "    # YOUR CODE HERE\n",
    "    random.seed(123)\n",
    "    print(transitions)\n",
    "    states = [\"A\"]\n",
    "    for i in range(1999):\n",
    "        state = states[-1]\n",
    "        decision = random.randrange(0, len(transitions[state]), 1)\n",
    "        states.append(transitions[state][decision])\n",
    "    return states\n",
    "    # YOUR CODE HERE\n",
    "    "
   ]
  },
  {
   "cell_type": "code",
   "execution_count": 49,
   "metadata": {
    "deletable": false,
    "editable": false,
    "nbgrader": {
     "cell_type": "code",
     "checksum": "4797d4d92f1424b25227a40f423d3b03",
     "grade": true,
     "grade_id": "cell-e189a7a547cbdcbc",
     "locked": true,
     "points": 5,
     "schema_version": 3,
     "solution": false
    }
   },
   "outputs": [
    {
     "name": "stdout",
     "output_type": "stream",
     "text": [
      "{'A': 'BE', 'B': 'AFC', 'C': 'BGD', 'D': 'CH', 'E': 'AF', 'F': 'EBG', 'G': 'FCH', 'H': 'GD'}\n",
      "First 10 visited states --> ['A', 'B', 'F', 'E', 'F', 'B', 'A', 'B', 'F', 'G']\n"
     ]
    }
   ],
   "source": [
    "# Tests\n",
    "X = simulate(T)\n",
    "\n",
    "# Print the first 10 states\n",
    "print(f\"First 10 visited states --> {X[:10]}\")\n",
    "t.assertIsInstance(X, list, \"The state sequence must be a list\")\n",
    "t.assertEqual(len(X), 2000)\n",
    "t.assertIsInstance(X[0], str, \"The state sequence must only contain strings\")\n",
    "t.assertEqual(X[0], \"A\", \"The state sequence must start with A\")\n",
    "t.assertTrue(all(x in S for x in X), \"Your state sequence containes an invalid state\")\n",
    "t.assertEqual(set(S), set(X), \"Your list should contain each state at least once\")\n"
   ]
  },
  {
   "cell_type": "code",
   "execution_count": 50,
   "metadata": {
    "deletable": false,
    "editable": false,
    "nbgrader": {
     "cell_type": "code",
     "checksum": "c680f76f8d733ca946496b9716eda022",
     "grade": true,
     "grade_id": "cell-5749c0c7ceef3507",
     "locked": true,
     "points": 0,
     "schema_version": 3,
     "solution": false,
     "task": false
    }
   },
   "outputs": [],
   "source": [
    "# This cell is for grading. DO NOT remove it"
   ]
  },
  {
   "attachments": {},
   "cell_type": "markdown",
   "metadata": {},
   "source": [
    "Implement a function that returns a list of the relative frequencies of each state."
   ]
  },
  {
   "cell_type": "code",
   "execution_count": 51,
   "metadata": {
    "deletable": false,
    "nbgrader": {
     "cell_type": "code",
     "checksum": "f82f38271502641caf92d9b3a6cc6477",
     "grade": false,
     "grade_id": "cell-d2abc424da288db8",
     "locked": false,
     "schema_version": 3,
     "solution": true
    }
   },
   "outputs": [],
   "source": [
    "def compute_histogram(\n",
    "    valid_states, state_sequence\n",
    "):\n",
    "    \"\"\"\n",
    "    Returns a list of percentages relating as to how many times each state\n",
    "    has been visited according to the `state_sequence` list\n",
    "\n",
    "    Args:\n",
    "        valid_states: A list of all valid states\n",
    "        state_sequence: A sequence of states for which we\n",
    "            want to calculate the frequencies\n",
    "    Returns:\n",
    "        A list of length 8. Contains the percentage `[0-1]` of occurances of each state\n",
    "        in the `state_sequence`.\n",
    "    \"\"\"\n",
    "    # YOUR CODE HERE\n",
    "    frequencies = [0] * len(valid_states)\n",
    "    sequence_size = len(state_sequence)\n",
    "    positions = {state: i for i, state in enumerate(valid_states)}\n",
    "    for state in state_sequence:\n",
    "        frequencies[positions[state]] += 1 / sequence_size\n",
    "    return frequencies\n",
    "    # YOUR CODE HERE\n",
    "    "
   ]
  },
  {
   "cell_type": "code",
   "execution_count": 52,
   "metadata": {
    "deletable": false,
    "editable": false,
    "nbgrader": {
     "cell_type": "code",
     "checksum": "4c5970f05dc687932fafdb7664687bd8",
     "grade": true,
     "grade_id": "cell-a083af994b2e82c2",
     "locked": true,
     "points": 10,
     "schema_version": 3,
     "solution": false
    }
   },
   "outputs": [
    {
     "name": "stdout",
     "output_type": "stream",
     "text": [
      "frequencies -> [0.09900000000000007, 0.1485000000000001, 0.1520000000000001, 0.10450000000000008, 0.10150000000000008, 0.1500000000000001, 0.1455000000000001, 0.09900000000000007]\n",
      "sum -> 1.0000000000000007\n"
     ]
    }
   ],
   "source": [
    "h = compute_histogram(S, X)\n",
    "print(f\"frequencies -> {h}\")\n",
    "t.assertIsInstance(h, list)\n",
    "# Check if the histogram is a valid probability distribution\n",
    "print(f\"sum -> {sum(h)}\")\n",
    "t.assertAlmostEqual(sum(h), 1.0)\n",
    "\n",
    "t.assertTrue(all(f < 0.2 for f in h))"
   ]
  },
  {
   "cell_type": "code",
   "execution_count": 53,
   "metadata": {
    "deletable": false,
    "editable": false,
    "nbgrader": {
     "cell_type": "code",
     "checksum": "06e40f32647e3d3fa54c023a3dc7390a",
     "grade": true,
     "grade_id": "cell-5c1b03dc60626965",
     "locked": true,
     "points": 0,
     "schema_version": 3,
     "solution": false,
     "task": false
    }
   },
   "outputs": [
    {
     "data": {
      "text/plain": [
       "'This cell is for grading.DO NOT remove it'"
      ]
     },
     "execution_count": 53,
     "metadata": {},
     "output_type": "execute_result"
    }
   ],
   "source": [
    "\"\"\"This cell is for grading.DO NOT remove it\"\"\""
   ]
  },
  {
   "attachments": {},
   "cell_type": "markdown",
   "metadata": {},
   "source": [
    "Using the above `compute_histogram` function, produce a bar plot using `matplotlib` (`matplotlib.pyplot.bar`) showing the fraction of the time the particle is found in a given state, averaged over the whole simulation. Do **not** call plt.show in the function (it is automatically called because of `%matplotlib inline`"
   ]
  },
  {
   "cell_type": "code",
   "execution_count": 54,
   "metadata": {},
   "outputs": [],
   "source": [
    "import matplotlib.pyplot as plt"
   ]
  },
  {
   "cell_type": "code",
   "execution_count": 55,
   "metadata": {
    "deletable": false,
    "nbgrader": {
     "cell_type": "code",
     "checksum": "9aab3eb74135fcded53ebe62066b8f5f",
     "grade": true,
     "grade_id": "cell-4e935488f89005fd",
     "locked": false,
     "points": 5,
     "schema_version": 3,
     "solution": true,
     "task": false
    }
   },
   "outputs": [],
   "source": [
    "def plot_histogram(valid_states, frequencies):\n",
    "    \"\"\"\n",
    "    Plots a bar graph of a provided histogram.\n",
    "\n",
    "    Args:\n",
    "        valid_states: The list of states\n",
    "        frequencies: The frequency of each state\n",
    "    \"\"\"\n",
    "    # Calculate the average frequency\n",
    "    avg_frequency = sum(frequencies) / len(frequencies)\n",
    "\n",
    "    # Create the bar plot\n",
    "    plt.bar(range(len(frequencies)), frequencies)\n",
    "\n",
    "    # Set the labels and title\n",
    "    plt.xlabel('State')\n",
    "    plt.ylabel('Fraction of Time')\n",
    "    plt.title('Average Fraction of Time in Each State')\n",
    "\n",
    "    # Set the tick labels\n",
    "    plt.xticks(range(len(frequencies)), valid_states)\n",
    "\n",
    "    # Display the averaged fraction as a horizontal line\n",
    "    plt.axhline(avg_frequency, color='r', linestyle='--', label='Average Fraction')\n",
    "\n",
    "    # Add a legend\n",
    "    plt.legend()\n",
    "\n",
    "    "
   ]
  },
  {
   "cell_type": "code",
   "execution_count": 56,
   "metadata": {
    "deletable": false,
    "editable": false,
    "nbgrader": {
     "cell_type": "code",
     "checksum": "f183b43f8df2273ecd6ad9480ef4327a",
     "grade": true,
     "grade_id": "cell-8adc44a487ec126c",
     "locked": true,
     "points": 0,
     "schema_version": 3,
     "solution": false,
     "task": false
    }
   },
   "outputs": [
    {
     "data": {
      "image/png": "[encoded data removed]",
      "text/plain": [
       "<Figure size 640x480 with 1 Axes>"
      ]
     },
     "metadata": {},
     "output_type": "display_data"
    }
   ],
   "source": [
    "# Plot the histogram of the above defined sequence X\n",
    "h = compute_histogram(S, X)\n",
    "plot_histogram(S, h)"
   ]
  },
  {
   "attachments": {},
   "cell_type": "markdown",
   "metadata": {
    "collapsed": true
   },
   "source": [
    "## Exercise 2: Adding a special state (10 P)\n",
    "\n",
    "Suppose now that the rule (defined by the transition dictionary) is modified such that everytime the particle is in state `F`, it always moves to `E` in the next step.\n",
    "\n",
    "* Modify the code to handle this special case, and create a bar plot for the new states distribution. Make sure to not modify the original transition dictionary. To achieve this, you can have a look at the `copy` module, but every working solution is accepted."
   ]
  },
  {
   "cell_type": "code",
   "execution_count": 57,
   "metadata": {
    "deletable": false,
    "nbgrader": {
     "cell_type": "code",
     "checksum": "9fedb289c4e82e3fd241e6d3c9760b24",
     "grade": false,
     "grade_id": "cell-b23ac9c3c7d18076",
     "locked": false,
     "schema_version": 3,
     "solution": true
    }
   },
   "outputs": [],
   "source": [
    "def modify_transitions(transitions):\n",
    "    \"\"\"\n",
    "    Creates a modified transition dictionary without modifing the provided one.\n",
    "\n",
    "    This function creates a new transition dictionary such that from state `F` the only\n",
    "    possible following state is `E`.\n",
    "\n",
    "    Args:\n",
    "        transitions: A dictionary that describes the possible transitions from each state\n",
    "    Returns:\n",
    "        A modified transition dict where from state `F` only state `E` can follow\n",
    "    \"\"\"\n",
    "    # YOUR CODE HERE\n",
    "    modified_transitions = transitions.copy()\n",
    "    modified_transitions[\"F\"] = \"E\"\n",
    "    return modified_transitions\n",
    "    # YOUR CODE HERE\n",
    "    "
   ]
  },
  {
   "cell_type": "code",
   "execution_count": 58,
   "metadata": {
    "deletable": false,
    "editable": false,
    "nbgrader": {
     "cell_type": "code",
     "checksum": "50ba47dc2f6599dde0a4f61285ccd573",
     "grade": true,
     "grade_id": "cell-8034873fab5ed4dd",
     "locked": true,
     "points": 0,
     "schema_version": 3,
     "solution": false,
     "task": false
    }
   },
   "outputs": [
    {
     "name": "stdout",
     "output_type": "stream",
     "text": [
      "{'A': 'BE', 'B': 'AFC', 'C': 'BGD', 'D': 'CH', 'E': 'AF', 'F': 'E', 'G': 'FCH', 'H': 'GD'}\n"
     ]
    },
    {
     "data": {
      "image/png": "[encoded data removed]",
      "text/plain": [
       "<Figure size 640x480 with 1 Axes>"
      ]
     },
     "metadata": {},
     "output_type": "display_data"
    }
   ],
   "source": [
    "new_T = modify_transitions(T)\n",
    "new_X = simulate(new_T)\n",
    "h = compute_histogram(S, new_X)\n",
    "plot_histogram(S, h)"
   ]
  },
  {
   "cell_type": "code",
   "execution_count": 59,
   "metadata": {
    "deletable": false,
    "editable": false,
    "nbgrader": {
     "cell_type": "code",
     "checksum": "60aabecc6316772c822de031ad9000b5",
     "grade": true,
     "grade_id": "cell-4c8eda5748d2ac39",
     "locked": true,
     "points": 10,
     "schema_version": 3,
     "solution": false
    }
   },
   "outputs": [
    {
     "name": "stdout",
     "output_type": "stream",
     "text": [
      "new_T['F'] = E\n",
      "T['F'] = EBG\n"
     ]
    }
   ],
   "source": [
    "# Tests\n",
    "new_T = modify_transitions(T)\n",
    "print(f\"new_T['F'] = {new_T['F']}\")\n",
    "print(f\"T['F'] = {T['F']}\")\n",
    "t.assertIsInstance(new_T, dict)\n",
    "t.assertIsNot(T, new_T, \"T and new_T should not be the same instance\")"
   ]
  },
  {
   "cell_type": "code",
   "execution_count": null,
   "metadata": {
    "deletable": false,
    "editable": false,
    "nbgrader": {
     "cell_type": "code",
     "checksum": "07e78afa48568326723453f02cedd511",
     "grade": true,
     "grade_id": "cell-fa7cbd75082da6f4",
     "locked": true,
     "points": 0,
     "schema_version": 3,
     "solution": false,
     "task": false
    }
   },
   "outputs": [],
   "source": []
  },
  {
   "attachments": {},
   "cell_type": "markdown",
   "metadata": {
    "deletable": false,
    "editable": false,
    "nbgrader": {
     "cell_type": "markdown",
     "checksum": "47b154fbe81e2a9ac6082cd849728fc8",
     "grade": false,
     "grade_id": "cell-b22d058ecb8c0369",
     "locked": true,
     "schema_version": 3,
     "solution": false,
     "task": false
    }
   },
   "source": [
    "## Exercise 3: Exact solution to the previous exercise (15 P)\n",
    "\n",
    "For simple Markov chains, a number of statistics can be obtained analytically from the structure of the transition model, in particular, by analysis of the transition matrix.\n",
    "\n",
    "* Compute the transition matrices associated to the models of exercise 1 and 2 (make sure that each row in these matrices sums to 1).\n",
    "* Give the transition matrices as argument to the function `utils.getstationary(P)` and return their result.\n",
    "\n",
    "This last function computes in closed form the stationary distribution associated to a given transition matrix `P` (i.e. the one we would get if running the simulation with such transition matrix for infinitely many time steps and looking at state frequencies)."
   ]
  },
  {
   "cell_type": "code",
   "execution_count": null,
   "metadata": {},
   "outputs": [],
   "source": []
  },
  {
   "cell_type": "code",
   "execution_count": 60,
   "metadata": {
    "deletable": false,
    "editable": false,
    "nbgrader": {
     "cell_type": "code",
     "checksum": "2323235e679a088ad12d0a491d406077",
     "grade": false,
     "grade_id": "cell-b7b7ded2d26a3259",
     "locked": true,
     "schema_version": 3,
     "solution": false,
     "task": false
    }
   },
   "outputs": [],
   "source": [
    "import numpy as np"
   ]
  },
  {
   "cell_type": "code",
   "execution_count": 61,
   "metadata": {
    "deletable": false,
    "nbgrader": {
     "cell_type": "code",
     "checksum": "1f2695b4b169cbe83c72c8778be07bce",
     "grade": false,
     "grade_id": "cell-e04eeaf399e5473f",
     "locked": false,
     "schema_version": 3,
     "solution": true
    }
   },
   "outputs": [],
   "source": [
    "def to_matrix(transition: dict):\n",
    "    \"\"\"\n",
    "    Converts a transition dictionary into a transition matrix. The first row\n",
    "    represents the propability of moving from the first state to every state.\n",
    "\n",
    "    If the state dict is irreflexive (we cannot go from one state to the same\n",
    "    state) the sum of the diagonal is 0.\n",
    "\n",
    "    The sum of each row should be 1.\n",
    "\n",
    "    All the elements in the matrix are values in [0-1].\n",
    "\n",
    "    Args:\n",
    "        transition: A dictionary describing the possible\n",
    "            transitions from each state.\n",
    "\n",
    "    Returns:\n",
    "        The transition matrix (ndim=2) that represents the same\n",
    "        (uniform) transitions as the transition dict\n",
    "    \"\"\"\n",
    "    # YOUR CODE HERE\n",
    "    positions = {state: i for i, state in enumerate(transition)}\n",
    "    matrix = []\n",
    "    states = list(transition.keys())\n",
    "    states.sort()\n",
    "    for state in states:\n",
    "        ts = transition[state]\n",
    "        row = [0] * len(transition)\n",
    "        for t in ts:\n",
    "            row[positions[t]] = 1 / len(ts)\n",
    "        matrix.append(row)\n",
    "    return np.array(matrix)\n",
    "    # YOUR CODE HERE\n",
    "    "
   ]
  },
  {
   "cell_type": "code",
   "execution_count": 62,
   "metadata": {
    "deletable": false,
    "editable": false,
    "nbgrader": {
     "cell_type": "code",
     "checksum": "afe177ff1929d2a75fc0076c2590ec44",
     "grade": true,
     "grade_id": "cell-c56cbb51974a1435",
     "locked": true,
     "points": 15,
     "schema_version": 3,
     "solution": false
    }
   },
   "outputs": [
    {
     "name": "stdout",
     "output_type": "stream",
     "text": [
      "[[0.   0.5  0.   0.   0.5  0.   0.   0.  ]\n",
      " [0.33 0.   0.33 0.   0.   0.33 0.   0.  ]\n",
      " [0.   0.33 0.   0.33 0.   0.   0.33 0.  ]\n",
      " [0.   0.   0.5  0.   0.   0.   0.   0.5 ]\n",
      " [0.5  0.   0.   0.   0.   0.5  0.   0.  ]\n",
      " [0.   0.33 0.   0.   0.33 0.   0.33 0.  ]\n",
      " [0.   0.   0.33 0.   0.   0.33 0.   0.33]\n",
      " [0.   0.   0.   0.5  0.   0.   0.5  0.  ]]\n"
     ]
    }
   ],
   "source": [
    "matrix_T = to_matrix(T)\n",
    "print(matrix_T.round(2))\n",
    "\n",
    "t.assertIsInstance(matrix_T, np.ndarray)\n",
    "np.testing.assert_allclose(np.sum(matrix_T, axis=1), 1.0)\n"
   ]
  },
  {
   "cell_type": "code",
   "execution_count": 63,
   "metadata": {
    "deletable": false,
    "editable": false,
    "nbgrader": {
     "cell_type": "code",
     "checksum": "102a1ed14708c6ed1e0071f3f988af8d",
     "grade": true,
     "grade_id": "cell-b7872f409809f378",
     "locked": true,
     "points": 0,
     "schema_version": 3,
     "solution": false,
     "task": false
    }
   },
   "outputs": [],
   "source": [
    "# This cell is for grading. DO NOT remove it"
   ]
  },
  {
   "attachments": {},
   "cell_type": "markdown",
   "metadata": {},
   "source": [
    "## Exercise 4: Adding non-uniform transition probabilities (25 P)\n",
    "\n",
    "We consider the original lattice defined by the variable `T`. We set transition probabilities for each state to be such that:\n",
    "\n",
    "1. The probability of moving vertically is the same as the probability of moving horizontally for states that have only two connections.\n",
    "2. For states with 3 connections the probability of moving vertically is 0.5 while the probability of moving left is always twice the probability of moving right.\n",
    "\n",
    "**Hints**: You can notice that for each state, the transitions towards other states are always listed from left to right in the dictionary `T`. Also note that characters A-H can be mapped to integer values using the Python function `ord()`, thus, giving a direct relation between state names and indices of the transition matrix."
   ]
  },
  {
   "attachments": {},
   "cell_type": "markdown",
   "metadata": {
    "deletable": false,
    "editable": false,
    "nbgrader": {
     "cell_type": "markdown",
     "checksum": "7eeffb4df87b38309f7134ffa3cfd255",
     "grade": false,
     "grade_id": "cell-a8a5c4311d24c353",
     "locked": true,
     "schema_version": 3,
     "solution": false,
     "task": false
    }
   },
   "source": [
    "**a)** Build a function that converts the string state into a numeric index"
   ]
  },
  {
   "cell_type": "code",
   "execution_count": 64,
   "metadata": {
    "deletable": false,
    "nbgrader": {
     "cell_type": "code",
     "checksum": "44d2d6741ce2044766f31a0cc7685dab",
     "grade": false,
     "grade_id": "cell-ed06d04f24b9db06",
     "locked": false,
     "schema_version": 3,
     "solution": true,
     "task": false
    }
   },
   "outputs": [],
   "source": [
    "def state_string_to_index(state):\n",
    "    \"\"\"\n",
    "    Converts the state string into a numerical index, where:\n",
    "    'A' -> 0\n",
    "    'B' -> 1\n",
    "    ...\n",
    "    'H' -> 7\n",
    "\n",
    "    Args:\n",
    "        state: A state string in [A-H] with len(state) == 1\n",
    "    Returns:\n",
    "        The index of the state in [0-7]\n",
    "    \"\"\"\n",
    "    # YOUR CODE HERE\n",
    "    return ord(state) - ord(\"A\")\n",
    "    # YOUR CODE HERE"
   ]
  },
  {
   "cell_type": "code",
   "execution_count": 65,
   "metadata": {
    "deletable": false,
    "editable": false,
    "nbgrader": {
     "cell_type": "code",
     "checksum": "2463bcb3b936c89250d4cc985c3047f6",
     "grade": true,
     "grade_id": "cell-d5a69e2ff33dde8a",
     "locked": true,
     "points": 5,
     "schema_version": 3,
     "solution": false,
     "task": false
    }
   },
   "outputs": [],
   "source": [
    "# Test state_string_to_index\n",
    "A_idx = state_string_to_index(\"A\")\n",
    "t.assertNotIsInstance(A_idx, float)\n",
    "t.assertEqual(A_idx, 0)"
   ]
  },
  {
   "cell_type": "code",
   "execution_count": 66,
   "metadata": {
    "deletable": false,
    "editable": false,
    "nbgrader": {
     "cell_type": "code",
     "checksum": "c4f8dca2674c07f3ae1dd04378fb1b94",
     "grade": true,
     "grade_id": "cell-f8a4376a239ee7e1",
     "locked": true,
     "points": 0,
     "schema_version": 3,
     "solution": false,
     "task": false
    }
   },
   "outputs": [],
   "source": [
    "# This cell is for grading. DO NOT remove it"
   ]
  },
  {
   "attachments": {},
   "cell_type": "markdown",
   "metadata": {},
   "source": [
    "**b**) Now implement the `build_transition_matrix` according to the rules defined above."
   ]
  },
  {
   "cell_type": "code",
   "execution_count": 67,
   "metadata": {
    "deletable": false,
    "nbgrader": {
     "cell_type": "code",
     "checksum": "4a9f16ea9d193702d441ac309adeaa12",
     "grade": false,
     "grade_id": "cell-1560bb06a55de020",
     "locked": false,
     "schema_version": 3,
     "solution": true
    }
   },
   "outputs": [],
   "source": [
    "def build_transition_matrix(transition):\n",
    "    \"\"\"\n",
    "    Builds a transition matrix from a transition dictionary, similarly to\n",
    "    `to_matrix` function. However, this function does not create a uniform\n",
    "    distribution among the following states.\n",
    "\n",
    "    If the the next valid states are two then the distribution is uniform.\n",
    "\n",
    "    If the the next valid states are three, then moving vertically should have a\n",
    "    50% chance and moving left twice as much as moving right.\n",
    "\n",
    "    Like in the `to_matrix` function the sum of each row should be 1.\n",
    "\n",
    "    Args:\n",
    "        A dictionary describing the possible transitions from each state.\n",
    "    Returns:\n",
    "        A transition matrix\n",
    "    \"\"\"\n",
    "    # YOUR CODE HERE\n",
    "    state_count = len(transition)\n",
    "    matrix = np.zeros((state_count, state_count))\n",
    "    for state, ts in transition.items():\n",
    "        row = state_string_to_index(state)\n",
    "        if len(ts) <= 2:\n",
    "            indices = [state_string_to_index(t) for t in ts]\n",
    "            matrix[row, indices] = 1 / len(ts)\n",
    "        else:\n",
    "            matrix[row, state_string_to_index(ts[1])] = 0.5\n",
    "            matrix[row, state_string_to_index(ts[0])] = 2/3 * 0.5\n",
    "            matrix[row, state_string_to_index(ts[2])] = 1/3 * 0.5\n",
    "    return matrix\n",
    "    # YOUR CODE HERE\n",
    "    "
   ]
  },
  {
   "cell_type": "code",
   "execution_count": 68,
   "metadata": {
    "deletable": false,
    "editable": false,
    "nbgrader": {
     "cell_type": "code",
     "checksum": "04242a1aef1c495c357e34544ef84c5b",
     "grade": true,
     "grade_id": "cell-cceb43e3ed998bfe",
     "locked": true,
     "points": 20,
     "schema_version": 3,
     "solution": false
    }
   },
   "outputs": [
    {
     "name": "stdout",
     "output_type": "stream",
     "text": [
      "[[0.    0.5   0.    0.    0.5   0.    0.    0.   ]\n",
      " [0.333 0.    0.167 0.    0.    0.5   0.    0.   ]\n",
      " [0.    0.333 0.    0.167 0.    0.    0.5   0.   ]\n",
      " [0.    0.    0.5   0.    0.    0.    0.    0.5  ]\n",
      " [0.5   0.    0.    0.    0.    0.5   0.    0.   ]\n",
      " [0.    0.5   0.    0.    0.333 0.    0.167 0.   ]\n",
      " [0.    0.    0.5   0.    0.    0.333 0.    0.167]\n",
      " [0.    0.    0.    0.5   0.    0.    0.5   0.   ]]\n"
     ]
    }
   ],
   "source": [
    "# Test build_transition_matrix\n",
    "P = build_transition_matrix(T)\n",
    "print(P.round(3))\n",
    "\n",
    "t.assertIsInstance(P, np.ndarray)\n",
    "np.testing.assert_allclose(P.sum(axis=1), 1.0)\n",
    "np.testing.assert_allclose(P[1, 2], 0.16666667)"
   ]
  },
  {
   "cell_type": "code",
   "execution_count": 69,
   "metadata": {
    "deletable": false,
    "editable": false,
    "nbgrader": {
     "cell_type": "code",
     "checksum": "894493637e177a8a077c7cb1aa11ea8b",
     "grade": true,
     "grade_id": "cell-f8d9ce6430c2dbb4",
     "locked": true,
     "points": 0,
     "schema_version": 3,
     "solution": false,
     "task": false
    }
   },
   "outputs": [],
   "source": [
    "# This cell is for grading. DO NOT remove it"
   ]
  },
  {
   "attachments": {},
   "cell_type": "markdown",
   "metadata": {},
   "source": [
    "## Exercise 5: Simulation for multiple particles (30 P)\n",
    "\n",
    "We let 1000 particles evolve simultaneously in the system described in Exercise 4. The initial state of these particles is pseudo-random and given by the function `utils.getinitialstate()`.\n",
    "\n",
    "* Using the function `utils.mcstep()` that was introduced during the lecture, simulate this system for 500 time steps.\n",
    "* Estimate the stationary distribution by looking at the distribution of these particles in state space after 500 time steps.\n",
    "\n",
    "For reproducibility, give seed values to the function utils.mcstep corresponding to the current time step of the simulation (i.e. from 0 to 499)."
   ]
  },
  {
   "cell_type": "code",
   "execution_count": 73,
   "metadata": {
    "deletable": false,
    "nbgrader": {
     "cell_type": "code",
     "checksum": "9a35e3cb2a3f6cc06db1ac93f13bdc84",
     "grade": false,
     "grade_id": "cell-2af098b516309a41",
     "locked": false,
     "schema_version": 3,
     "solution": true
    }
   },
   "outputs": [],
   "source": [
    "def simulate_1000(transition):\n",
    "    \"\"\"\n",
    "    Simulates 1000 particles for 500 time steps, in order to approximate\n",
    "    the stationary distribution\n",
    "\n",
    "    Args:\n",
    "        transition: A transition dict, that will be converted into a transition matrix using the\n",
    "        `build_transition_matrix` function\n",
    "    Returns:\n",
    "        The estimated stationary distribution vector (ndim=1)\n",
    "\n",
    "    \"\"\"\n",
    "    # YOUR CODE HERE\n",
    "    # Build transition matrix\n",
    "    transition_matrix = build_transition_matrix(transition)\n",
    "    transition_matrix = np.pad(transition_matrix, ((0, 0), (1, 0)))\n",
    "    \n",
    "    # Initialize particles\n",
    "    particles = utils.getinitialstate()\n",
    "\n",
    "    # Simulate 500 time steps\n",
    "    for step in range(500):\n",
    "        # Perform Markov chain transition for particles\n",
    "        mcstep = utils.mcstep(particles, transition_matrix, step)\n",
    "\n",
    "    # Estimate the stationary distribution\n",
    "    stationary_distribution = np.mean(particles, axis=0)\n",
    "\n",
    "    return stationary_distribution\n",
    "    # YOUR CODE HERE\n",
    "    "
   ]
  },
  {
   "cell_type": "code",
   "execution_count": 71,
   "metadata": {
    "deletable": false,
    "editable": false,
    "nbgrader": {
     "cell_type": "code",
     "checksum": "5180949b1c3ad99f0feabb501ecc240f",
     "grade": false,
     "grade_id": "cell-0230474b27291943",
     "locked": true,
     "schema_version": 3,
     "solution": false,
     "task": false
    }
   },
   "outputs": [
    {
     "name": "stdout",
     "output_type": "stream",
     "text": [
      "[0.1429 0.2143 0.1071 0.0357 0.1429 0.2143 0.1071 0.0357]\n"
     ]
    }
   ],
   "source": [
    "# For reference this is the actual stationary distribution\n",
    "print(utils.getstationary(build_transition_matrix(T)).round(4))"
   ]
  },
  {
   "cell_type": "code",
   "execution_count": 74,
   "metadata": {
    "deletable": false,
    "editable": false,
    "nbgrader": {
     "cell_type": "code",
     "checksum": "14a4408fb7d225fddb3c09f402d28f59",
     "grade": true,
     "grade_id": "cell-621b6e15bfc77266",
     "locked": true,
     "points": 30,
     "schema_version": 3,
     "solution": false
    }
   },
   "outputs": [
    {
     "name": "stdout",
     "output_type": "stream",
     "text": [
      "[0.115 0.129 0.132 0.114 0.122 0.11  0.138 0.14 ]\n"
     ]
    }
   ],
   "source": [
    "# Tests\n",
    "stationary_distribution = simulate_1000(T)\n",
    "print(stationary_distribution)\n",
    "t.assertIsInstance(stationary_distribution, np.ndarray)\n",
    "t.assertEqual(stationary_distribution.shape, (8,))\n",
    "np.testing.assert_allclose(np.sum(stationary_distribution), 1)\n"
   ]
  },
  {
   "attachments": {},
   "cell_type": "markdown",
   "metadata": {},
   "source": [
    "# Please register for one of the exams\n",
    "You can register on ISIS. You can find the registration in the \"General information\" panel on ISIS or using the following link: https://isis.tu-berlin.de/mod/choice/view.php?id=1602584"
   ]
  },
  {
   "cell_type": "code",
   "execution_count": null,
   "metadata": {},
   "outputs": [],
   "source": []
  }
 ],
 "metadata": {
  "kernelspec": {
   "display_name": "Python 3 (ipykernel)",
   "language": "python",
   "name": "python3"
  },
  "language_info": {
   "codemirror_mode": {
    "name": "ipython",
    "version": 3
   },
   "file_extension": ".py",
   "mimetype": "text/x-python",
   "name": "python",
   "nbconvert_exporter": "python",
   "pygments_lexer": "ipython3",
   "version": "3.11.0"
  }
 },
 "nbformat": 4,
 "nbformat_minor": 1
}
