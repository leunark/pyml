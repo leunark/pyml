{
 "cells": [
  {
   "attachments": {},
   "cell_type": "markdown",
   "metadata": {},
   "source": [
    "## Before you start working on the exercise\n",
    "\n",
    "- Use Python version 3.9 and above.\n",
    "- It is highly recommended to create a virtual environment for this course. You can find resources on how to create a virtual environment on the ISIS page of the course.\n",
    "- Make sure that no assertions fail or exceptions occur, otherwise points will be subtracted.\n",
    "- Use all the variables given to a function unless explicitly stated otherwise. If you are not using a variable you are doing something wrong.\n",
    "- Read the **whole** task description before starting with your solution.\n",
    "- After you submit the notebook more tests will be run on your code. The fact that no assertions fail on your computer locally does not guarantee that you completed the exercise correctly.\n",
    "- Please submit only the notebook file with its original name. If you do not submit an `ipynb` file you will fail the exercise.\n",
    "- Edit only between YOUR CODE HERE and END YOUR CODE.\n",
    "- Verify that no syntax errors are present in the file.\n",
    "- Before uploading your submission, make sure everything runs as expected. First, restart the kernel (in the menubar, select Kernel\\Restart) and then run all cells (in the menubar, select Cell\\Run All)."
   ]
  },
  {
   "cell_type": "code",
   "execution_count": 26,
   "metadata": {},
   "outputs": [
    {
     "name": "stdout",
     "output_type": "stream",
     "text": [
      "Correct Python version\n"
     ]
    }
   ],
   "source": [
    "import sys\n",
    "\n",
    "if (3, 9) <= sys.version_info[:2] <= (3, 11):\n",
    "    print(\"Correct Python version\")\n",
    "else:\n",
    "    print(\n",
    "        f\"You are using a wrong version of Python: {'.'.join(map(str,sys.version_info[:3]))}\"\n",
    "    )"
   ]
  },
  {
   "attachments": {},
   "cell_type": "markdown",
   "metadata": {
    "deletable": false,
    "editable": false,
    "nbgrader": {
     "cell_type": "markdown",
     "checksum": "0a620de592d9efa574182c239181f762",
     "grade": false,
     "grade_id": "cell-78cd1baff9635896",
     "locked": true,
     "schema_version": 3,
     "solution": false,
     "task": false
    }
   },
   "source": [
    "# Exercise Sheet 3: Advanced Numpy\n",
    "\n",
    "In the third exercise sheet we will work on advanced numpy topics and application on machine learning tasks. You will implement the complete datascience pipline, starting with data loading, plotting and data exploration, and finally implementing a machine learning model and applying it on the data.\n",
    "\n",
    "For each exercise there will be a maximum number of loops allowed. If your function contains more loops than allowed, you will be notified during the function definition, and the function will automatically fail in the hidden tests. \n",
    "\n",
    "For technical reasons the following functions are **banned** throughout the notebook.\n",
    "\n",
    "- `map`\n",
    "- `sum` (`np.sum` is allowed)\n",
    "- `filter`\n",
    "- `np.vectorize`\n",
    "- `np.fromiter`\n",
    "- `np.fromfunction`\n",
    "- `np.apply_along_axis`\n",
    "\n",
    "If you use one of these functions in your submissions it will **automatically fail**. The use of `np.sum` is allowed."
   ]
  },
  {
   "cell_type": "code",
   "execution_count": 27,
   "metadata": {
    "deletable": false,
    "editable": false,
    "nbgrader": {
     "cell_type": "code",
     "checksum": "10c20ac759eaec9fa904a23141598b4f",
     "grade": true,
     "grade_id": "cell-bfc2ecb9fb8fec38",
     "locked": true,
     "points": 0,
     "schema_version": 3,
     "solution": false,
     "task": false
    }
   },
   "outputs": [],
   "source": [
    "# EXECUTE the setup cell !\n",
    "from unittest import TestCase\n",
    "\n",
    "t = TestCase()\n",
    "\n",
    "from minified import max_allowed_loops, no_imports\n",
    "from illegal import IllegalContext, create_no_loop_illegals\n"
   ]
  },
  {
   "attachments": {},
   "cell_type": "markdown",
   "metadata": {
    "deletable": false,
    "editable": false,
    "nbgrader": {
     "cell_type": "markdown",
     "checksum": "a0ed82d6df04b4a81ef8534faea4f8a7",
     "grade": false,
     "grade_id": "read-from-file-desc",
     "locked": true,
     "schema_version": 3,
     "solution": false,
     "task": false
    }
   },
   "source": [
    "### Exercise 1.1: ( 8 points ) \n",
    "\n",
    "Read the data from the file data.csv and save it in a dictionary. The letters in data.csv are the assigned labels and their corresponding datapoints. Each datapoint is two-dimensional and consists of the given x- and y-values. Return a dictionary with the letters/labels as keys. The value assigned to each key should be a list of x- and y-values. \n",
    "\n",
    "* Do not forget to cast the vaules to float.\n",
    "\n",
    "<!-- * TODO: Is the list allowed to be two dimensional? -->\n",
    "\n",
    "* Number of loops allowed in this exercise: 1"
   ]
  },
  {
   "cell_type": "code",
   "execution_count": 28,
   "metadata": {
    "deletable": false,
    "nbgrader": {
     "cell_type": "code",
     "checksum": "7acbd320d76c7eb007e215821a9d4930",
     "grade": false,
     "grade_id": "read-from-file",
     "locked": false,
     "schema_version": 3,
     "solution": true,
     "task": false
    }
   },
   "outputs": [],
   "source": [
    "@no_imports\n",
    "@max_allowed_loops(1)\n",
    "def read_from_file(file=\"data.csv\"):\n",
    "    \"\"\"\n",
    "    Opens a csv file and parses it line by line. Each line consists of a label and two\n",
    "    data dimensions. The function returns a dictionary where each key is a label and\n",
    "    the value is a list of all the datapoints that have that label. Each datapoint\n",
    "    is represented by a pair (2-element tuple) of floats.\n",
    "\n",
    "    Args:\n",
    "        file: The path to the file to open and parse. Defaults to\n",
    "        \"data.csv\".\n",
    "\n",
    "    Returns:\n",
    "        The parsed contents of the csv file\n",
    "    \"\"\"\n",
    "    D = {}\n",
    "    # YOUR CODE HERE\n",
    "    with open(file) as f:\n",
    "        while True:\n",
    "            line = f.readline()\n",
    "            if not line:\n",
    "                break\n",
    "            label, x, y = line.split(\",\")\n",
    "            x = float(x)\n",
    "            y = float(y)\n",
    "            if not label in D:\n",
    "                D[label] = []\n",
    "            D[label].append((x, y))\n",
    "    # YOUR CODE HERE\n",
    "    \n",
    "    return D"
   ]
  },
  {
   "cell_type": "code",
   "execution_count": 29,
   "metadata": {
    "deletable": false,
    "editable": false,
    "nbgrader": {
     "cell_type": "code",
     "checksum": "ee2ff9f76638b3e6cc97239adaac6fe6",
     "grade": true,
     "grade_id": "cell-9df4522a7b9adedd",
     "locked": true,
     "points": 8,
     "schema_version": 3,
     "solution": false,
     "task": false
    }
   },
   "outputs": [
    {
     "name": "stdout",
     "output_type": "stream",
     "text": [
      "tiny_result {'A': [(0.8, 0.9), (0.2, 0.3)], 'B': [(0.9, 0.1)], 'C': [(2.0, 4.0)]}\n",
      "Keys of D: dict_keys(['N', 'M', 'U'])\n",
      "\n",
      "155 datapoints were assigned the label N\n",
      "168 datapoints were assigned the label M\n",
      "132 datapoints were assigned the label U\n"
     ]
    }
   ],
   "source": [
    "tiny_result = read_from_file(file=\"tiny.csv\")\n",
    "print(\"tiny_result\", tiny_result)\n",
    "tiny_expected = {\"A\": [(0.8, 0.9), (0.2, 0.3)], \"B\": [(0.9, 0.1)], \"C\": [(2.0, 4.0)]}\n",
    "t.assertEqual(tiny_result, tiny_expected)\n",
    "\n",
    "D = read_from_file(file=\"data.csv\")\n",
    "print(f\"Keys of D: {D.keys()}\", end=\"\\n\\n\")\n",
    "for k, v in D.items():\n",
    "    print(f\"{len(v)} datapoints were assigned the label {k}\")\n",
    "\n",
    "# Test All types\n",
    "t.assertIsInstance(D, dict)\n",
    "for d in D:\n",
    "    t.assertIsInstance(d, str)\n",
    "    t.assertIsInstance(D[d], list)\n",
    "    for el in D[d]:\n",
    "        t.assertIsInstance(el, tuple)\n",
    "        t.assertIsInstance(el[0], float)\n",
    "        t.assertIsInstance(el[1], float)\n",
    "\n",
    "letters = \"MNU\"\n",
    "t.assertEqual(set(D.keys()), set(letters))\n",
    "t.assertTrue(all(len(v) > 99 for v in D.values()))\n",
    "read_from_file.assert_not_too_many_loops()\n",
    "read_from_file.assert_no_imports()"
   ]
  },
  {
   "cell_type": "code",
   "execution_count": 30,
   "metadata": {
    "deletable": false,
    "editable": false,
    "nbgrader": {
     "cell_type": "code",
     "checksum": "e55e224dae60a7827087644175573650",
     "grade": true,
     "grade_id": "cell-c457103f016f505a",
     "locked": true,
     "points": 0,
     "schema_version": 3,
     "solution": false,
     "task": false
    }
   },
   "outputs": [],
   "source": [
    "# This cell is for grading"
   ]
  },
  {
   "attachments": {},
   "cell_type": "markdown",
   "metadata": {
    "deletable": false,
    "editable": false,
    "nbgrader": {
     "cell_type": "markdown",
     "checksum": "8df2e148b6dd85e05daec2403fa3f47d",
     "grade": false,
     "grade_id": "cell-3defd523da9ddb93",
     "locked": true,
     "schema_version": 3,
     "solution": false,
     "task": false
    }
   },
   "source": [
    "### Exercise 1.2: ( 5 Pts )\n",
    "\n",
    "Use numpy to stack all of the $N$ datapoints from the dictionary into one matrix $X$, containing the data.\n",
    "\n",
    "Additionally, create one array $y$ with the corresponding integer labels. \n",
    "\n",
    "Each datapoint $x_i \\in X, \\> i = \\overline{1..N}$ is of dimension $D=2$. The label assigned to a datapoint has to be a positive integer. Every letter-label should map to one integer-label in $y$ accordingly.\n",
    "\n",
    "Maping example: $A \\rightarrow 0,\\> C \\rightarrow 1,\\> K \\rightarrow 2, ...$ (The order of the keys/labels defines the numeric label. The first key is mapped to 0 and so on.)\n",
    "\n",
    "* Dataset $X$: $$\\Large X \\in \\mathbb{R}^{(N, D)}$$\n",
    "* Labels $y$: $$\\Large y \\in \\mathbb{N}^{(N,)} $$\n",
    "\n",
    "* Number of loops allowed in this exercise: 1 (for iterating over the keys of the dictionary)"
   ]
  },
  {
   "cell_type": "code",
   "execution_count": 31,
   "metadata": {
    "deletable": false,
    "editable": false,
    "nbgrader": {
     "cell_type": "code",
     "checksum": "6894ec5c652971e1d635edd9df830dd8",
     "grade": false,
     "grade_id": "cell-de6d83d74d8cd21b",
     "locked": true,
     "schema_version": 3,
     "solution": false,
     "task": false
    }
   },
   "outputs": [],
   "source": [
    "import numpy as np\n",
    "\n",
    "illegals = create_no_loop_illegals(np, __builtins__)\n",
    "no_loop_illegals_context = IllegalContext(illegals, globals())"
   ]
  },
  {
   "cell_type": "code",
   "execution_count": 32,
   "metadata": {
    "deletable": false,
    "nbgrader": {
     "cell_type": "code",
     "checksum": "267115fd0118cd8c72f95699907ffd23",
     "grade": false,
     "grade_id": "stack-data",
     "locked": false,
     "schema_version": 3,
     "solution": true,
     "task": false
    }
   },
   "outputs": [],
   "source": [
    "@no_imports\n",
    "@max_allowed_loops(1)\n",
    "def stack_data(D):\n",
    "    \"\"\"\n",
    "    Convert a dictionary dataset into a two arrays of data and labels. The dictionary\n",
    "    keys represent the labels and the value mapped to each key is a list that\n",
    "    contains all the datapoints belonging to that label. The output are two arrays\n",
    "    the first is the datapoints in a single 2d array and a vector of integers\n",
    "    with the corresponding label for each datapoint. The order of the datapoints is\n",
    "    preserved according to the order in the dictionary and the lists.\n",
    "\n",
    "    The labels are converted from a string to a unique int.\n",
    "\n",
    "    The datapoints are entered in the same order as the keys in the `D`. First\n",
    "    all the datapoints of the first key are entered then the second and so on.\n",
    "    Within one label order also remains.\n",
    "\n",
    "    Args:\n",
    "        D: The dictionary that should be stacked.\n",
    "\n",
    "    Returns:\n",
    "        The two output arrays. The first is a float-matrix containing all the\n",
    "        datapoints. The second is an int-vector containing the labels for each datapoint.\n",
    "    \"\"\"\n",
    "\n",
    "    # YOUR CODE HERE\n",
    "    \n",
    "    labels = []\n",
    "    data = []\n",
    "    for i, (_, datapoints) in enumerate(D.items()):\n",
    "        datapoints = np.array(datapoints)\n",
    "        labels.extend([i] * len(datapoints))\n",
    "        data.append(datapoints)\n",
    "\n",
    "    X = np.concatenate(data, axis=0)\n",
    "    y = np.array(labels, dtype=int)\n",
    "        \n",
    "    # YOUR CODE HERE\n",
    "    \n",
    "    return X, y"
   ]
  },
  {
   "cell_type": "code",
   "execution_count": 33,
   "metadata": {
    "deletable": false,
    "editable": false,
    "nbgrader": {
     "cell_type": "code",
     "checksum": "3b478cf72f0171f1d448d1c90b17c6e3",
     "grade": true,
     "grade_id": "cell-61647bd7c0adf999",
     "locked": true,
     "points": 5,
     "schema_version": 3,
     "solution": false,
     "task": false
    }
   },
   "outputs": [
    {
     "name": "stdout",
     "output_type": "stream",
     "text": [
      "[[0.  0.1]\n",
      " [0.9 0.7]\n",
      " [0.8 0.3]] [0 1 1]\n",
      "(455, 2) (455,)\n",
      "float64 int64\n",
      "Expected length for X, y: 455\n"
     ]
    }
   ],
   "source": [
    "tiny_expected_X, tiny_expected_y = (\n",
    "    np.array(\n",
    "        [\n",
    "            [0.0, 0.1],\n",
    "            [0.9, 0.7],\n",
    "            [0.8, 0.3],\n",
    "        ]\n",
    "    ),\n",
    "    np.array([0, 1, 1]),\n",
    ")\n",
    "tiny_result_X, tiny_result_y = stack_data(\n",
    "    {\"B\": [(0.0, 0.1)], \"A\": [(0.9, 0.7), (0.8, 0.3)]}\n",
    ")\n",
    "print(tiny_result_X, tiny_result_y)\n",
    "np.testing.assert_allclose(tiny_expected_X, tiny_result_X)\n",
    "np.testing.assert_allclose(tiny_expected_y, tiny_result_y)\n",
    "\n",
    "X, y = stack_data(D)\n",
    "print(X.shape, y.shape)\n",
    "print(X.dtype, y.dtype)\n",
    "\n",
    "expected_len = sum(len(x) for x in D.values())\n",
    "print(f\"Expected length for X, y: {expected_len}\")\n",
    "\n",
    "t.assertEqual(X.shape, (expected_len, 2))\n",
    "t.assertEqual(y.shape, (expected_len,))\n",
    "\n",
    "t.assertEqual(X.dtype, np.float64)\n",
    "t.assertEqual(y.dtype, np.int64)\n",
    "\n",
    "t.assertEqual(set(y), set(range(len(D))))\n",
    "\n",
    "with no_loop_illegals_context:\n",
    "    X, y = stack_data(D)\n",
    "\n",
    "stack_data.assert_not_too_many_loops()\n",
    "stack_data.assert_no_imports()"
   ]
  },
  {
   "cell_type": "code",
   "execution_count": 34,
   "metadata": {
    "deletable": false,
    "editable": false,
    "nbgrader": {
     "cell_type": "code",
     "checksum": "2a758d17a8188b86bf713060f41ee41e",
     "grade": true,
     "grade_id": "cell-c3d938239f97bc3e",
     "locked": true,
     "points": 0,
     "schema_version": 3,
     "solution": false,
     "task": false
    }
   },
   "outputs": [],
   "source": [
    "# This cell is for grading"
   ]
  },
  {
   "attachments": {},
   "cell_type": "markdown",
   "metadata": {
    "deletable": false,
    "editable": false,
    "nbgrader": {
     "cell_type": "markdown",
     "checksum": "3960ef5c00a1b4899058e0192c6e50f3",
     "grade": false,
     "grade_id": "cell-d1207f635471e8b8",
     "locked": true,
     "schema_version": 3,
     "solution": false,
     "task": false
    }
   },
   "source": [
    "### Exercise 1.3: ( 4 Pts )\n",
    "\n",
    "Write a function that returns a list of all $k$ clusters $C$. A cluster $C_k$ is composed of every datapoint $X_i$ assigned with the label $k$. There are as many clusters $C_k$ as there are unique labels in $y$.\n",
    "\n",
    "\n",
    "$$\\Large{\\mathcal{C} = \\{ C_1, C_2, \\cdots, C_k \\},\\quad k = \\overline{1..K}}$$\n",
    "\n",
    "<br>\n",
    "\n",
    "$$\\Large C_k \\in \\mathbb{R}^{(N_k, D)}$$\n",
    "\n",
    "* Number of loops allowed in this exercise: 1"
   ]
  },
  {
   "cell_type": "code",
   "execution_count": 35,
   "metadata": {
    "deletable": false,
    "nbgrader": {
     "cell_type": "code",
     "checksum": "324bfc9ff0161e8c3fe75f60081acb24",
     "grade": false,
     "grade_id": "get-clusters",
     "locked": false,
     "schema_version": 3,
     "solution": true,
     "task": false
    }
   },
   "outputs": [],
   "source": [
    "@no_imports\n",
    "@max_allowed_loops(1)\n",
    "def get_clusters(X, y):\n",
    "    \"\"\"\n",
    "    Receives a labeled dataset and splits the datapoints according to label\n",
    "\n",
    "    Args:\n",
    "        X: The dataset\n",
    "        y: The label for each point in the dataset\n",
    "\n",
    "    Returns:\n",
    "        A list of arrays where the elements of each array are datapoints belonging to\n",
    "        the label at that index.\n",
    "\n",
    "    Example:\n",
    "    >>> get_clusters(\n",
    "            np.array([[0.8, 0.7], [0, 0.4], [0.3, 0.1]]),\n",
    "            np.array([0,1,0])\n",
    "        )\n",
    "    >>> [array([[0.8, 0.7],[0.3, 0.1]]),\n",
    "         array([[0. , 0.4]])]\n",
    "    \"\"\"\n",
    "    # YOUR CODE HERE\n",
    "    return [X[y == i] for i in range(max(y) + 1)]\n",
    "    # YOUR CODE HERE"
   ]
  },
  {
   "cell_type": "code",
   "execution_count": 36,
   "metadata": {
    "deletable": false,
    "editable": false,
    "nbgrader": {
     "cell_type": "code",
     "checksum": "f14ee30c4f8fbcc11a0ff6d06ee2f51d",
     "grade": true,
     "grade_id": "cell-651e8faf9efa1d69",
     "locked": true,
     "points": 4,
     "schema_version": 3,
     "solution": false,
     "task": false
    }
   },
   "outputs": [
    {
     "name": "stdout",
     "output_type": "stream",
     "text": [
      "[array([[0.8, 0.7],\n",
      "       [0.3, 0.1]]), array([[0. , 0.4]])]\n"
     ]
    }
   ],
   "source": [
    "tiny_result = get_clusters(\n",
    "    np.array(\n",
    "        [\n",
    "            [0.8, 0.7],\n",
    "            [0, 0.4],\n",
    "            [0.3, 0.1],\n",
    "        ]\n",
    "    ),\n",
    "    np.array([0, 1, 0]),\n",
    ")\n",
    "print(tiny_result)\n",
    "tiny_expected = [\n",
    "    np.array(\n",
    "        [\n",
    "            [0.8, 0.7],\n",
    "            [0.3, 0.1],\n",
    "        ]\n",
    "    ),\n",
    "    np.array(\n",
    "        [\n",
    "            [0.0, 0.4],\n",
    "        ]\n",
    "    ),\n",
    "]\n",
    "for r, e in zip(tiny_result, tiny_expected):\n",
    "    np.testing.assert_allclose(r, e)\n",
    "\n",
    "clusters = get_clusters(X, y)\n",
    "# output is list\n",
    "t.assertIsInstance(clusters, list)\n",
    "t.assertEqual(len(letters), len(clusters))\n",
    "\n",
    "# all elements are arrays\n",
    "for el in clusters:\n",
    "    t.assertIsInstance(el, np.ndarray)\n",
    "\n",
    "t.assertEqual(sum(map(len, clusters)), len(X))\n",
    "\n",
    "with no_loop_illegals_context:\n",
    "    clusters = get_clusters(X, y)\n",
    "\n",
    "\n",
    "get_clusters.assert_not_too_many_loops()\n",
    "get_clusters.assert_no_imports()"
   ]
  },
  {
   "cell_type": "code",
   "execution_count": 37,
   "metadata": {
    "deletable": false,
    "editable": false,
    "nbgrader": {
     "cell_type": "code",
     "checksum": "a8fc69f7726657f0e452d84a6d71374d",
     "grade": true,
     "grade_id": "cell-c18b7a483384b26f",
     "locked": true,
     "points": 0,
     "schema_version": 3,
     "solution": false,
     "task": false
    }
   },
   "outputs": [],
   "source": [
    "# This cell is for grading"
   ]
  },
  {
   "attachments": {},
   "cell_type": "markdown",
   "metadata": {},
   "source": [
    "### Exercise 1.4: ( 8 Pts )\n",
    "\n",
    "Split the data $X$ into training and testing data.\n",
    "\n",
    "* Return a list of clusters for training and a list of cluster for testing.\n",
    "\n",
    "\n",
    "* Utilize the function `train_test_idxs` from utils to split the data.\n",
    "\n",
    "- The train-test ratio should be 80-20\n",
    "\n",
    "* Use the function implemented in Exercise 1.3 __get_clusters(X,y)__ to get the clusters.\n",
    "\n",
    "* Remember that when you split the dataset you need to keep the relationship between the data and the labels. Do not split the data and labels independently\n",
    "\n",
    "\n",
    "* Number of loops allowed in this exercise: 0"
   ]
  },
  {
   "cell_type": "code",
   "execution_count": 38,
   "metadata": {
    "deletable": false,
    "editable": false,
    "nbgrader": {
     "cell_type": "code",
     "checksum": "7e4207de5a5caaba4ab6e0ddea3dda08",
     "grade": false,
     "grade_id": "cell-9ff46e2ea585fe4b",
     "locked": true,
     "schema_version": 3,
     "solution": false,
     "task": false
    }
   },
   "outputs": [
    {
     "name": "stdout",
     "output_type": "stream",
     "text": [
      "train_test_idxs specification:\n",
      " \n",
      "    Returns indices that can be used as train and test data.\n",
      "\n",
      "    Args:\n",
      "        L (int): The size of the dataset\n",
      "        test_ratio (float): The ratio [0-1] of indices that should be put in the test\n",
      "        set\n",
      "\n",
      "    Returns:\n",
      "        Tuple[np.ndarray, np.ndarray]: The training and testset indices\n",
      "    \n",
      "train_indices = [11  3  0 12  2  5  1 18 10 17 19  7 13  8]\n",
      "test_indices = [16 14 15  9  4  6]\n"
     ]
    }
   ],
   "source": [
    "from utils import train_test_idxs\n",
    "\n",
    "print(\"train_test_idxs specification:\\n\", train_test_idxs.__doc__)\n",
    "\n",
    "train_indices, test_indices = train_test_idxs(L=20, test_ratio=0.3)\n",
    "print(f\"train_indices = {train_indices}\")\n",
    "print(f\"test_indices = {test_indices}\")"
   ]
  },
  {
   "cell_type": "code",
   "execution_count": 39,
   "metadata": {
    "deletable": false,
    "nbgrader": {
     "cell_type": "code",
     "checksum": "36831bd753adeabdc237f7450541af22",
     "grade": false,
     "grade_id": "split",
     "locked": false,
     "schema_version": 3,
     "solution": true,
     "task": false
    }
   },
   "outputs": [],
   "source": [
    "@no_imports\n",
    "@max_allowed_loops(0)\n",
    "def split(X, y):\n",
    "    \"\"\"\n",
    "    Split the data into train and test sets. The training and test set are\n",
    "    clustered by label using `get_clusters`. The size of the training set\n",
    "    is 80% of the whole dataset\n",
    "\n",
    "    Args:\n",
    "        X: The dataset (2d)\n",
    "        y: The label of each datapoint in the dataset `X` (1d)\n",
    "\n",
    "    Returns:\n",
    "        The clustered training and testset\n",
    "    \"\"\"\n",
    "    # YOUR CODE HERE\n",
    "    train_indices, test_indices = train_test_idxs(L=len(y), test_ratio=0.2)\n",
    "    tr_clusters = get_clusters(X[train_indices], y[train_indices])\n",
    "    te_clusters = get_clusters(X[test_indices], y[test_indices])\n",
    "    # YOUR CODE HERE\n",
    "    \n",
    "\n",
    "    return tr_clusters, te_clusters"
   ]
  },
  {
   "cell_type": "code",
   "execution_count": 40,
   "metadata": {
    "deletable": false,
    "editable": false,
    "nbgrader": {
     "cell_type": "code",
     "checksum": "658c5d771bfdfad7c826e978ca4b8dc3",
     "grade": true,
     "grade_id": "cell-ead3f23734e9cde2",
     "locked": true,
     "points": 8,
     "schema_version": 3,
     "solution": false,
     "task": false
    }
   },
   "outputs": [
    {
     "name": "stdout",
     "output_type": "stream",
     "text": [
      "percent_train = 0.8\n"
     ]
    }
   ],
   "source": [
    "output = split(X, y)\n",
    "tr_clusters, te_clusters = output\n",
    "t.assertIsInstance(output, tuple)\n",
    "t.assertIsInstance(tr_clusters, list)\n",
    "t.assertIsInstance(te_clusters, list)\n",
    "\n",
    "\n",
    "t.assertEqual(len(tr_clusters), len(te_clusters))\n",
    "t.assertEqual(len(tr_clusters), len(letters))\n",
    "t.assertEqual(len(te_clusters), len(letters))\n",
    "\n",
    "for el in tr_clusters + te_clusters:\n",
    "    t.assertIsInstance(el, np.ndarray)\n",
    "\n",
    "\n",
    "n_in_train = sum(map(len, tr_clusters))\n",
    "n_in_test = sum(map(len, te_clusters))\n",
    "t.assertEqual(n_in_train + n_in_test, len(X))\n",
    "\n",
    "percent_train = n_in_train / len(X)\n",
    "print(f\"percent_train = {percent_train}\")\n",
    "t.assertGreaterEqual(percent_train, 0.79)\n",
    "t.assertLessEqual(percent_train, 0.81)\n"
   ]
  },
  {
   "cell_type": "code",
   "execution_count": 41,
   "metadata": {
    "deletable": false,
    "editable": false,
    "nbgrader": {
     "cell_type": "code",
     "checksum": "029d6b5e7c3da4114f0de07253654235",
     "grade": true,
     "grade_id": "cell-1b9f3d481003661f",
     "locked": true,
     "points": 0,
     "schema_version": 3,
     "solution": false,
     "task": false
    }
   },
   "outputs": [],
   "source": [
    "# This cell is for grading"
   ]
  },
  {
   "attachments": {},
   "cell_type": "markdown",
   "metadata": {},
   "source": [
    "### Exercise 1.5:  (9 Pts )\n",
    "\n",
    "Compute the mean $\\mu_k$ of each cluster $C_k$. Return a list of all cluster means $\\mu$.\n",
    "\n",
    "\n",
    "$$\\Large{\\mu = \\{ \\mu_1, \\mu_2, \\cdots, \\mu_k \\},\\quad k = \\overline{1..K}}$$\n",
    "\n",
    "\n",
    "\n",
    "* Number of elements in a cluster $k$:\n",
    "$$\\Large{N_k = | C_k |, \\quad C_k \\in \\mathbb{R}^{(N_k, D)}}$$\n",
    "\n",
    "\n",
    "\n",
    "* The $k$-th cluster mean $\\mu_k$:\n",
    "$$\\Large{ \\mu_k = \\frac{1}{N_k}\\sum_{x_i \\in C_k} x_i }$$\n",
    "\n",
    "\n",
    "\n",
    "* Number of loops allowed in this exercise: 1 (to iterate over the clusters)"
   ]
  },
  {
   "cell_type": "code",
   "execution_count": 42,
   "metadata": {
    "deletable": false,
    "nbgrader": {
     "cell_type": "code",
     "checksum": "33c8d2e3cddc0a89b900dbb91a1178ea",
     "grade": false,
     "grade_id": "calc-means",
     "locked": false,
     "schema_version": 3,
     "solution": true,
     "task": false
    }
   },
   "outputs": [],
   "source": [
    "@no_imports\n",
    "@max_allowed_loops(1)\n",
    "def calc_means(clusters):\n",
    "    \"\"\"\n",
    "    For a collections of clusters calculate the mean for each cluster\n",
    "\n",
    "    Args:\n",
    "        clusters: A list of 2d arrays. Each array in the list corresponds to a cluster.\n",
    "\n",
    "    Returns:\n",
    "        A matrix where each row represents the mean of a cluster.\n",
    "    \"\"\"\n",
    "    # YOUR CODE HERE\n",
    "    return np.array([cluster.mean(axis=0) for cluster in clusters])\n",
    "    # YOUR CODE HERE"
   ]
  },
  {
   "cell_type": "code",
   "execution_count": 43,
   "metadata": {
    "deletable": false,
    "editable": false,
    "nbgrader": {
     "cell_type": "code",
     "checksum": "7fab965e51f39206fa6dfd8724a5a1e5",
     "grade": true,
     "grade_id": "cell-417ff17a7f89706b",
     "locked": true,
     "points": 9,
     "schema_version": 3,
     "solution": false,
     "task": false
    }
   },
   "outputs": [
    {
     "name": "stdout",
     "output_type": "stream",
     "text": [
      "[[0.15 0.25]\n",
      " [0.7  0.7 ]]\n",
      "\n",
      "[[ 1.013032    1.475472  ]\n",
      " [-0.74180153 -0.82074809]\n",
      " [ 7.20163889  6.86493519]]\n"
     ]
    }
   ],
   "source": [
    "tiny_clusters = [\n",
    "    np.array([[0.2, 0.3], [0.1, 0.2]]),\n",
    "    np.array([[0.8, 0.9], [0.7, 0.5], [0.6, 0.7]]),\n",
    "]\n",
    "tiny_result = calc_means(tiny_clusters)\n",
    "print(tiny_result, end=\"\\n\\n\")\n",
    "tiny_expected = np.array([[0.15, 0.25], [0.7, 0.7]])\n",
    "np.testing.assert_allclose(tiny_result, tiny_expected)\n",
    "\n",
    "means = calc_means(tr_clusters)\n",
    "print(means)\n",
    "t.assertIsInstance(means, np.ndarray)\n",
    "t.assertEqual(means.shape, (len(letters), 2))\n"
   ]
  },
  {
   "cell_type": "code",
   "execution_count": 44,
   "metadata": {
    "deletable": false,
    "editable": false,
    "nbgrader": {
     "cell_type": "code",
     "checksum": "5a727279011d56089cd78de1989603e4",
     "grade": true,
     "grade_id": "cell-a78860f98dee20d8",
     "locked": true,
     "points": 0,
     "schema_version": 3,
     "solution": false,
     "task": false
    }
   },
   "outputs": [],
   "source": [
    "# This cell is for grading"
   ]
  },
  {
   "attachments": {},
   "cell_type": "markdown",
   "metadata": {
    "deletable": false,
    "editable": false,
    "nbgrader": {
     "cell_type": "markdown",
     "checksum": "d2d17ff970cc2d8d50e0a6470dde054f",
     "grade": false,
     "grade_id": "cell-b0c8b58fdd2f7385",
     "locked": true,
     "points": 0,
     "schema_version": 3,
     "solution": false,
     "task": true
    }
   },
   "source": [
    "### Exercise 2.1: Scatter plot of clusters ( 10 points )\n",
    "\n",
    "- Create a scatter plot of size 8x8. \n",
    "\n",
    "- Plot each datapoint of a cluster $x_{ik} \\in  C_k$ as dots with an alpha value of 0.6 and a label. \n",
    "\n",
    "- The plot-label should contain both the cluster's letter-label as well as its integer-label. \n",
    "\n",
    "- Further, plot the cluster's mean $\\mu_k$ as a red cross of size 7. The plot should also have a label for each cluster's mean, giving information on its exact coordinates. \n",
    "\n",
    "- The title of the plot should be _'Scatter plot of the clusters'_ in fontsize 20.\n",
    "\n",
    "* Label for the scatter plots example: _A = 0_\n",
    "* Label for the cluster means example (use LaTeX): _$\\mu_A:$[1.23  0.56]_\n",
    "\n",
    "- If the mean of each cluster is not provided, use `calc_means(clusters)` to calculate the means.\n",
    "\n",
    "\n",
    "* Number of loops allowed in this exercise: 1 (for iteration over the clusters)\n"
   ]
  },
  {
   "cell_type": "code",
   "execution_count": 45,
   "metadata": {
    "deletable": false,
    "editable": false,
    "nbgrader": {
     "cell_type": "code",
     "checksum": "56918e905fd6f1ee3eb83c46745bec37",
     "grade": false,
     "grade_id": "cell-cf145588f2264965",
     "locked": true,
     "schema_version": 3,
     "solution": false,
     "task": false
    }
   },
   "outputs": [],
   "source": [
    "import matplotlib.pyplot as plt\n",
    "\n",
    "%matplotlib inline"
   ]
  },
  {
   "cell_type": "code",
   "execution_count": 67,
   "metadata": {
    "deletable": false,
    "nbgrader": {
     "cell_type": "code",
     "checksum": "bc9f6da638b0da4ffe5ae475d2462ff8",
     "grade": true,
     "grade_id": "plot-scatter",
     "locked": false,
     "points": 10,
     "schema_version": 3,
     "solution": true,
     "task": false
    }
   },
   "outputs": [],
   "source": [
    "@no_imports\n",
    "def plot_scatter_and_mean(clusters, letters, means=None) -> None:\n",
    "    \"\"\"\n",
    "    Create a scatter plot visualizing each cluster and its mean\n",
    "\n",
    "    Args:\n",
    "        clusters: A list containing arrrays representing\n",
    "        each cluster\n",
    "        letters: The \"name\" of each cluster\n",
    "        means: The mean of each cluster. If not\n",
    "        provided the mean of each cluster in `clusters` should be calculated and\n",
    "        used\n",
    "    \"\"\"\n",
    "    assert len(letters) == len(clusters)\n",
    "\n",
    "    # YOUR CODE HERE\n",
    "    fig, ax = plt.subplots(figsize=(8, 8))\n",
    "\n",
    "    if not means:\n",
    "        means = calc_means(clusters)\n",
    "    for data, label, mean in zip(clusters, letters, means):\n",
    "        ax.scatter(*data.T, alpha=0.6, label=f'{label} = {len(data)}')\n",
    "\n",
    "        # Plot the cluster mean as a red cross\n",
    "        ax.plot(mean[0], mean[1], 'rx', markersize=7, label=r'$\\mu_{%s}:[%.2f, %.2f]$' % (label, mean[0], mean[1]))\n",
    "\n",
    "    ax.set_title('Scatter plot of the clusters', fontsize=20)\n",
    "    ax.legend()\n",
    "\n",
    "    # Show the plot\n",
    "    plt.show()\n",
    "    # YOUR CODE HERE"
   ]
  },
  {
   "cell_type": "code",
   "execution_count": 68,
   "metadata": {
    "deletable": false,
    "editable": false,
    "nbgrader": {
     "cell_type": "code",
     "checksum": "1c5cbcfacd39d6d31ff7dbafc0db52b5",
     "grade": false,
     "grade_id": "cell-0c2f0435cc96e58a",
     "locked": true,
     "schema_version": 3,
     "solution": false,
     "task": false
    }
   },
   "outputs": [
    {
     "data": {
      "image/png": "[encoded data removed]",
      "text/plain": [
       "<Figure size 800x800 with 1 Axes>"
      ]
     },
     "metadata": {},
     "output_type": "display_data"
    }
   ],
   "source": [
    "plot_scatter_and_mean(tr_clusters, letters, means=None)"
   ]
  },
  {
   "attachments": {},
   "cell_type": "markdown",
   "metadata": {
    "deletable": false,
    "editable": false,
    "nbgrader": {
     "cell_type": "markdown",
     "checksum": "d3d25347d6d0fc4f8bbe925672c3c400",
     "grade": false,
     "grade_id": "cell-afffe3532473fb6d",
     "locked": true,
     "schema_version": 3,
     "solution": false,
     "task": false
    }
   },
   "source": [
    "### Exercise 2.2: (10 points)\n",
    "\n",
    " - To make it easier to visually analyse the the differences between clusters, the data can be projected onto an axis. Plot a histrogram for the projection onto the given axis. \n",
    " \n",
    " - The histogram should have 30 bins, be 50% transparent and labeled. The area under the histogram should be normalized and sum to 1 to represent a proper distribution. It can be done by setting the corresponding parameter.  - The bars width should have 4/5 of the bins width.\n",
    "\n",
    "\n",
    "- Create a scatter plot of size 14x5.\n",
    "* Plot the mean of each cluster as a vertical, dashed, red line.\n",
    "* Label for the histograms example: _A_\n",
    "* The title of the plot should be dynamic, have a font size of 20 and explain the axis of the projection, e.g. \"Projection to axis 0 histogramm plot\" or \"Projection to axis 1 histogramm plot\", depending on the axis.\n",
    "\n",
    "\n",
    "* Number of loops allowed in this exercise: 1 (to iterate over the clusters)"
   ]
  },
  {
   "cell_type": "code",
   "execution_count": 85,
   "metadata": {
    "deletable": false,
    "nbgrader": {
     "cell_type": "code",
     "checksum": "dfea9d3c43ba8de4341f63480ddb8e43",
     "grade": true,
     "grade_id": "plot-projection",
     "locked": false,
     "points": 10,
     "schema_version": 3,
     "solution": true,
     "task": false
    }
   },
   "outputs": [],
   "source": [
    "@no_imports\n",
    "def plot_projection(clusters, letters, means, axis=0):\n",
    "    \"\"\"\n",
    "    Plot a histogram of the dimension provided in `axis`\n",
    "\n",
    "    Args:\n",
    "        clusters: The clusters from which to create the historgram\n",
    "        letters: The string representation of each class\n",
    "        means: The mean of each class\n",
    "        axis: The axis from which to create the historgram. Defaults to 0.\n",
    "    \"\"\"\n",
    "    # YOUR CODE HERE\n",
    "    # Create the scatter plot\n",
    "    fig, ax = plt.subplots(figsize=(14, 5))\n",
    "\n",
    "    # Iterate over clusters\n",
    "    x_min = None\n",
    "    x_max = None\n",
    "    for cluster, label, mean in zip(clusters, letters, means):\n",
    "        data = cluster\n",
    "        ax.scatter(data[:, 0], data[:, 1], alpha=0.6, label=f'{label} = {len(data)}')\n",
    "\n",
    "        # Plot the mean as a vertical dashed line\n",
    "        ax.axvline(mean[axis], linestyle='dashed', color='red')\n",
    "\n",
    "        # Create histogram\n",
    "        ax.hist(data[:, axis], bins=30, alpha=0.5, density=True, label=label, edgecolor='black')\n",
    "        \n",
    "        # Calculate the x-axis limits\n",
    "        x_min = min(x_min, cluster[:, axis].min()) if x_min else cluster[:, axis].min()\n",
    "        x_max = max(x_max, cluster[:, axis].max()) if x_max else cluster[:, axis].max()\n",
    "    \n",
    "    print(x_min, x_max)\n",
    "\n",
    "    # Adjust the bar width based on the number of bins\n",
    "    bin_width = (x_max - x_min) / 30\n",
    "    bar_width = bin_width * 4/5\n",
    "\n",
    "    # Set plot title and labels\n",
    "    ax.set_title(f'Projection to axis {axis} histogram plot', fontsize=20)\n",
    "    ax.legend()\n",
    "\n",
    "    # Set the x-axis limits and bar width\n",
    "    ax.set_xlim(x_min, x_max)\n",
    "    ax.bar([], [], alpha=0.5, width=bar_width, edgecolor='black')\n",
    "\n",
    "    # Show the plot\n",
    "    plt.show()\n",
    "    # YOUR CODE HERE\n"
   ]
  },
  {
   "cell_type": "code",
   "execution_count": 84,
   "metadata": {
    "deletable": false,
    "editable": false,
    "nbgrader": {
     "cell_type": "code",
     "checksum": "1640acd2896aa489504d6eb3122bf710",
     "grade": false,
     "grade_id": "cell-b7631b4add7c4883",
     "locked": true,
     "schema_version": 3,
     "solution": false,
     "task": false
    }
   },
   "outputs": [
    {
     "name": "stdout",
     "output_type": "stream",
     "text": [
      "-6.023 11.533\n"
     ]
    },
    {
     "data": {
      "image/png": "[encoded data removed]",
      "text/plain": [
       "<Figure size 1400x500 with 1 Axes>"
      ]
     },
     "metadata": {},
     "output_type": "display_data"
    }
   ],
   "source": [
    "plot_projection(tr_clusters, letters, means, axis=0)"
   ]
  },
  {
   "attachments": {},
   "cell_type": "markdown",
   "metadata": {
    "deletable": false,
    "editable": false,
    "nbgrader": {
     "cell_type": "markdown",
     "checksum": "4d0a4ce777b47e10bc462a35f7517e01",
     "grade": false,
     "grade_id": "cell-786fa6dbff5fb0a3",
     "locked": true,
     "schema_version": 3,
     "solution": false,
     "task": false
    }
   },
   "source": [
    "### Exercise 3.1: (10 points)\n",
    "\n",
    "Compute the within cluster covariance $S_w$ to further analyse the distribution of the data in the clusters. Sum up the covariance matrices of each cluster to get the one average within cluster corvariance matrix. **This is shown in the formula below.** Covariance matrices describe the relationship between the x and y dimensions of the data.\n",
    "\n",
    "$$\\boxed{\\Large{S_w  = \\sum_{k=1}^K \\sum_{x_i \\in C_k} (x_i - \\mu_k)^{\\top}} (x_i - \\mu_k), \\quad S_w \\in \\mathbb{R}^{(D, D)}}$$\n",
    "\n",
    "\n",
    "* Reminder: Data $C$ is a set of clusters $C_k$, where $K$ is the total number of clusters. $${\\mathcal{C} = \\{ C_1, C_2, \\cdots, C_k \\},\\quad k = \\overline{1..K}}$$\n",
    "\n",
    "* Number of elements in a cluster $k$: $${N_k = | C_k |, \\quad C_k \\in \\mathbb{R}^{(N_k, D)}}$$\n",
    "<br>\n",
    "\n",
    "* $k$-th cluster mean $\\mu_k$: $${ \\mu_k = \\frac{1}{N_k}\\sum_{x_i \\in C_k} x_i }$$\n",
    "\n",
    "* Number of loops allowed in this exercise: 1 (to iterate over the clusters)"
   ]
  },
  {
   "cell_type": "code",
   "execution_count": 98,
   "metadata": {
    "deletable": false,
    "nbgrader": {
     "cell_type": "code",
     "checksum": "8c2a5b0aa24c1322736cb5d8e9971f95",
     "grade": false,
     "grade_id": "within-cluster-cov",
     "locked": false,
     "schema_version": 3,
     "solution": true,
     "task": false
    }
   },
   "outputs": [],
   "source": [
    "@no_imports\n",
    "@max_allowed_loops(1)\n",
    "def within_cluster_cov(clusters):\n",
    "    \"\"\"\n",
    "    Calculate the within class covariance for a collection of clusters\n",
    "\n",
    "    Args:\n",
    "        clusters: A list of clusters each consisting of\n",
    "        an array of datapoints\n",
    "\n",
    "    Returns:\n",
    "        The within cluster covariance\n",
    "\n",
    "    Example:\n",
    "        >>> within_cluster_cov(\n",
    "            [array([[0.2, 0.3], [0.1, 0.2]]), array([[0.8, 0.9], [0.7, 0.5], [0.6, 0.7]])]\n",
    "        )\n",
    "        >>> array([[0.025, 0.025],\n",
    "                   [0.025, 0.085]])\n",
    "    \"\"\"\n",
    "    d = clusters[0].shape[1]\n",
    "    S_w = np.zeros((d, d))\n",
    "    # YOUR CODE HERE\n",
    "    means = calc_means(clusters)\n",
    "    for cluster, mean in zip(clusters, means):\n",
    "        diff = cluster - mean\n",
    "        S_w += np.dot(diff.T, diff)\n",
    "    return S_w\n",
    "    # YOUR CODE HERE"
   ]
  },
  {
   "cell_type": "code",
   "execution_count": 99,
   "metadata": {
    "deletable": false,
    "editable": false,
    "nbgrader": {
     "cell_type": "code",
     "checksum": "0654f2b82371a55d5d43c74c6abf25b1",
     "grade": true,
     "grade_id": "cell-ca257344ee385a22",
     "locked": true,
     "points": 10,
     "schema_version": 3,
     "solution": false,
     "task": false
    }
   },
   "outputs": [
    {
     "name": "stdout",
     "output_type": "stream",
     "text": [
      "[[0.025 0.025]\n",
      " [0.025 0.085]]\n",
      "[[1082.97919963  -31.59139297]\n",
      " [ -31.59139297 1088.54360039]]\n"
     ]
    }
   ],
   "source": [
    "tiny_clusters = [\n",
    "    np.array([[0.2, 0.3], [0.1, 0.2]]),\n",
    "    np.array([[0.8, 0.9], [0.7, 0.5], [0.6, 0.7]]),\n",
    "]\n",
    "tiny_expected = np.array([[0.025, 0.025], [0.025, 0.085]])\n",
    "tiny_result = within_cluster_cov(tiny_clusters)\n",
    "print(tiny_result)\n",
    "np.testing.assert_allclose(tiny_expected, tiny_result)\n",
    "\n",
    "S_w = within_cluster_cov(tr_clusters)\n",
    "print(S_w)\n",
    "t.assertIsInstance(S_w, np.ndarray)\n",
    "t.assertEqual(S_w.shape, (2, 2))\n",
    "\n",
    "# check if symmetric\n",
    "np.testing.assert_allclose(S_w, S_w.T)\n"
   ]
  },
  {
   "cell_type": "code",
   "execution_count": 100,
   "metadata": {
    "deletable": false,
    "editable": false,
    "nbgrader": {
     "cell_type": "code",
     "checksum": "34bd7567682f76a5d048fade55b94f58",
     "grade": true,
     "grade_id": "cell-de6575c1f0ae9063",
     "locked": true,
     "points": 0,
     "schema_version": 3,
     "solution": false,
     "task": false
    }
   },
   "outputs": [],
   "source": [
    "# This cell is for grading"
   ]
  },
  {
   "attachments": {},
   "cell_type": "markdown",
   "metadata": {
    "deletable": false,
    "editable": false,
    "nbgrader": {
     "cell_type": "markdown",
     "checksum": "40e70c8fe5d9cc14c8a59d2ab6d5f63e",
     "grade": false,
     "grade_id": "cell-bdb1eea9979a36a2",
     "locked": true,
     "schema_version": 3,
     "solution": false,
     "task": false
    }
   },
   "source": [
    "### Exercise 3.2: ( 5 + 10 points )\n",
    "\n",
    "To compute the between cluster covariance, the calculation of the mean of means is necessary. In the function `calc_mean_of_means(clusters)` you must reuse your function `calc_means(clusters)`.\n",
    "\n",
    "\n",
    "* Mean of means: $$\\Large{ \\mu = \\frac{1}{N}\\sum_{C_i \\in \\mathcal{C}}{C_i}},\\quad \\text{where}\\quad N = |\\mathcal{C}|$$\n",
    "\n",
    "\n",
    "The between cluster covariance describes the relation of the datapoints from one cluster to the other. It focuses on the differences rather then the similarities. Use the function `calc_mean_of_means(clusters)` in the function `between_cluster_cov(clusters)` to access the mean of means. **You only have to implement the given formulas**, and do not need to fully understand the underlying concept. \n",
    "\n",
    "* Between cluster covariance: $$\\boxed{\\Large{S_b = \\sum_{k=1}^K  N_k (\\mu_k - \\mu) (\\mu_k - \\mu)^{\\top}}}$$\n",
    "\n",
    "\n",
    "* Number of loops allowed in this exercise: 0 + 1 (one loop only in `between_cluster_cov(clusters)`, to iterate over the clusters)\n",
    "\n",
    "*Hint:* For the `between_cluster_cov(clusters)` consider the `np.outer` function"
   ]
  },
  {
   "cell_type": "code",
   "execution_count": 101,
   "metadata": {
    "deletable": false,
    "nbgrader": {
     "cell_type": "code",
     "checksum": "0f158114c68784a173b0dc30fdd4250e",
     "grade": false,
     "grade_id": "calc-mom",
     "locked": false,
     "schema_version": 3,
     "solution": true,
     "task": false
    }
   },
   "outputs": [],
   "source": [
    "@no_imports\n",
    "@max_allowed_loops(0)\n",
    "def calc_mean_of_means(clusters):\n",
    "    \"\"\"\n",
    "    Given a collection of datapoints divided in clusters, calculate the\n",
    "    mean of all cluster means.\n",
    "    Args:\n",
    "        clusters: A list of clusters represented in arrays\n",
    "\n",
    "    Returns:\n",
    "        A single datapoint that represents the mean of all the\n",
    "        cluster means\n",
    "    \"\"\"\n",
    "    # YOUR CODE HERE\n",
    "    return calc_means(clusters).sum(axis=0) / len(clusters)\n",
    "    # YOUR CODE HERE\n",
    "    "
   ]
  },
  {
   "cell_type": "code",
   "execution_count": 102,
   "metadata": {
    "deletable": false,
    "editable": false,
    "nbgrader": {
     "cell_type": "code",
     "checksum": "97620d0ca68c282dddbead0b454f1447",
     "grade": true,
     "grade_id": "cell-799fb0ebced67cd2",
     "locked": true,
     "points": 5,
     "schema_version": 3,
     "solution": false,
     "task": false
    }
   },
   "outputs": [
    {
     "name": "stdout",
     "output_type": "stream",
     "text": [
      "[0.4305  0.48325]\n",
      "[2.49095645 2.50655303]\n"
     ]
    }
   ],
   "source": [
    "tiny_result = calc_mean_of_means(\n",
    "    [\n",
    "        np.array([[0.222, 0.333], [0.1, 0.2]]),\n",
    "        np.array([[0.8, 0.9], [0.7, 0.5], [0.6, 0.7]]),\n",
    "    ]\n",
    ")\n",
    "print(tiny_result)\n",
    "tiny_expected = np.array([0.4305, 0.48325])\n",
    "np.testing.assert_allclose(tiny_expected, tiny_result)\n",
    "\n",
    "mean_of_means = calc_mean_of_means(tr_clusters)\n",
    "print(mean_of_means)\n",
    "t.assertIsInstance(mean_of_means, np.ndarray)\n",
    "t.assertEqual(mean_of_means.shape, (2,))\n"
   ]
  },
  {
   "cell_type": "code",
   "execution_count": 103,
   "metadata": {
    "deletable": false,
    "editable": false,
    "nbgrader": {
     "cell_type": "code",
     "checksum": "75d380c6ec37313a4b5d03396fcfa037",
     "grade": true,
     "grade_id": "cell-dfe9f40dc0b31201",
     "locked": true,
     "points": 0,
     "schema_version": 3,
     "solution": false,
     "task": false
    }
   },
   "outputs": [],
   "source": [
    "# This cell is for grading"
   ]
  },
  {
   "cell_type": "code",
   "execution_count": 107,
   "metadata": {
    "deletable": false,
    "nbgrader": {
     "cell_type": "code",
     "checksum": "ce79d3458b6fd01e79ff156584bb1fae",
     "grade": false,
     "grade_id": "between-cluster-cov",
     "locked": false,
     "schema_version": 3,
     "solution": true,
     "task": false
    }
   },
   "outputs": [],
   "source": [
    "@no_imports\n",
    "@max_allowed_loops(1)\n",
    "def between_cluster_cov(\n",
    "    clusters,\n",
    "    cluster_means,\n",
    "    mean_of_means,\n",
    "):\n",
    "    \"\"\"\n",
    "    Calculate the covariance between clusters.\n",
    "\n",
    "    Args:\n",
    "        clusters: A list of datapoints divided by cluster\n",
    "        cluster_means: A list of vectors representing the mean\n",
    "        of each cluster\n",
    "        mean_of_means: A vector, the mean of all datapoints\n",
    "\n",
    "    Returns:\n",
    "        Covariance between clusters\n",
    "    \"\"\"\n",
    "    d = clusters[0].shape[1]\n",
    "    S_b = np.zeros((d, d))\n",
    "\n",
    "    # YOUR CODE HERE\n",
    "\n",
    "    for cluster, cluster_mean in zip(clusters, cluster_means):\n",
    "        mean_diff = cluster_mean - mean_of_means\n",
    "        S_b += len(cluster) * np.outer(mean_diff, mean_diff)\n",
    "\n",
    "    return S_b\n",
    "\n",
    "    # YOUR CODE HERE\n",
    "    "
   ]
  },
  {
   "cell_type": "code",
   "execution_count": 108,
   "metadata": {
    "deletable": false,
    "editable": false,
    "nbgrader": {
     "cell_type": "code",
     "checksum": "359b652cd948f9365f664bba2627dd18",
     "grade": true,
     "grade_id": "cell-5ba9704726cfac13",
     "locked": true,
     "points": 10,
     "schema_version": 3,
     "solution": false,
     "task": false
    }
   },
   "outputs": [
    {
     "name": "stdout",
     "output_type": "stream",
     "text": [
      "[[4038.65458394 3816.90860648]\n",
      " [3816.90860648 3634.69666343]]\n"
     ]
    }
   ],
   "source": [
    "tiny_clusters = [\n",
    "    np.array([[0.2, 0.3], [0.1, 0.2]]),\n",
    "    np.array([[0.8, 0.9], [0.7, 0.5], [0.6, 0.7]]),\n",
    "]\n",
    "tiny_means = [np.array([0.15, 0.25]), np.array([0.7, 0.7])]\n",
    "tiny_mean_of_means = np.array([0.425, 0.475])\n",
    "between_cluster_cov(tiny_clusters, tiny_means, tiny_mean_of_means)\n",
    "\n",
    "S_b = between_cluster_cov(tr_clusters, means, mean_of_means)\n",
    "print(S_b)\n",
    "t.assertIsInstance(S_b, np.ndarray)\n",
    "t.assertEqual(S_b.shape, (2, 2))\n",
    "np.testing.assert_allclose(S_b, S_b.T)\n",
    "\n",
    "t.assertTrue(np.all(S_b > 3000))\n",
    "t.assertTrue(np.all(S_b < 5000))\n",
    "\n"
   ]
  },
  {
   "cell_type": "code",
   "execution_count": 109,
   "metadata": {
    "deletable": false,
    "editable": false,
    "nbgrader": {
     "cell_type": "code",
     "checksum": "0f9c7073362deaad30fcb7b0813f3116",
     "grade": true,
     "grade_id": "cell-c586977da962720e",
     "locked": true,
     "points": 0,
     "schema_version": 3,
     "solution": false,
     "task": false
    }
   },
   "outputs": [],
   "source": [
    "# This cell is for grading"
   ]
  },
  {
   "attachments": {},
   "cell_type": "markdown",
   "metadata": {
    "deletable": false,
    "editable": false,
    "nbgrader": {
     "cell_type": "markdown",
     "checksum": "f9ca7fe45db5440ccb904b42dddc73ea",
     "grade": false,
     "grade_id": "cell-b8ca981163477312",
     "locked": true,
     "schema_version": 3,
     "solution": false,
     "task": false
    }
   },
   "source": [
    "### Exercise 3.3 (15 points):\n",
    "\n",
    "Compute rotation matrix $W$. To find the rotation matrix you first need to find a matrix $A$ so that the within cluster covariance matrix can be transformed into the between cluster covariance matrix. \n",
    "\n",
    "$$\\Large{ S_w A = S_b}$$\n",
    "\n",
    "Next, find the eigenvalues of this matrix $A$. The eigenvectors describe the direction in which the matrix $A$ does _not_ transform and instead only scales. These vectors form the rotation matrix, as they show the directions in which the difference between $S_w$ and $S_b$ is maximized. **Implement the given formulas!**\n",
    "\n",
    "$$ \\Large{AW = \\lambda W}$$\n",
    "* Return the rotation matrix and the index of its largest axis (according to the eigenvalues).\n",
    "\n",
    "\n",
    "* Number of loops allowed in this exercise: 0"
   ]
  },
  {
   "cell_type": "code",
   "execution_count": 117,
   "metadata": {
    "deletable": false,
    "nbgrader": {
     "cell_type": "code",
     "checksum": "a10bba222ab8d28ed2c9b1ff44200359",
     "grade": false,
     "grade_id": "rotation-matrix",
     "locked": false,
     "schema_version": 3,
     "solution": true,
     "task": false
    }
   },
   "outputs": [],
   "source": [
    "@no_imports\n",
    "@max_allowed_loops(0)\n",
    "def rotation_matrix(S_w, S_b):\n",
    "    \"\"\"\n",
    "    Calculate the transformation matrix given the within- and between cluster\n",
    "    covariance matrices.\n",
    "\n",
    "    Args:\n",
    "        S_w: The within cluster covariance\n",
    "        S_b: The between cluster covariance\n",
    "\n",
    "    Returns:\n",
    "        The transformation matrix and the axis along with the transformed data achieves\n",
    "        maximal variance\n",
    "    \"\"\"\n",
    "    # YOUR CODE HERE\n",
    "    A = np.linalg.solve(S_w, S_b)\n",
    "    eigenvalues, eigenvectors = np.linalg.eig(A)\n",
    "    max_axis = np.argmax(eigenvalues)\n",
    "    return eigenvectors, max_axis\n",
    "    # YOUR CODE HERE\n",
    "    "
   ]
  },
  {
   "cell_type": "code",
   "execution_count": 120,
   "metadata": {
    "deletable": false,
    "editable": false,
    "nbgrader": {
     "cell_type": "code",
     "checksum": "f3593bd37cf373edd8b5dc8dfc4d11f8",
     "grade": true,
     "grade_id": "cell-85f9448ad600c329",
     "locked": true,
     "points": 15,
     "schema_version": 3,
     "solution": false,
     "task": false
    }
   },
   "outputs": [
    {
     "name": "stdout",
     "output_type": "stream",
     "text": [
      "[[ 0.99752952 -0.63323779]\n",
      " [-0.07024856  0.7739573 ]] 0\n"
     ]
    }
   ],
   "source": [
    "tiny_S_w = np.array([[0.025, 0.025], [0.025, 0.085]])\n",
    "tiny_S_b = np.array([[0.378125, 0.309375], [0.309375, 0.253125]])\n",
    "tiny_result_M, tiny_result_max_axis = rotation_matrix(tiny_S_w, tiny_S_b)\n",
    "print(tiny_result_M, tiny_result_max_axis)\n",
    "tiny_expected_M, tiny_expected_max_axis = (\n",
    "    np.array([[0.99752952, -0.63323779], [-0.07024856, 0.7739573]]),\n",
    "    0,\n",
    ")\n",
    "np.testing.assert_allclose(tiny_expected_M, tiny_result_M)\n",
    "np.testing.assert_allclose(tiny_expected_max_axis, tiny_result_max_axis)\n",
    "\n",
    "output = rotation_matrix(S_w, S_b)\n",
    "t.assertIsInstance(output, tuple)\n",
    "t.assertEqual(len(output), 2)\n",
    "W_rot, max_axis = output\n",
    "t.assertIsInstance(W_rot, np.ndarray)\n",
    "t.assertIsInstance(max_axis, np.int64)\n",
    "t.assertEqual(W_rot.shape, (2, 2))\n"
   ]
  },
  {
   "cell_type": "code",
   "execution_count": 121,
   "metadata": {
    "deletable": false,
    "editable": false,
    "nbgrader": {
     "cell_type": "code",
     "checksum": "732e6c8335fd8fd4b4f46517fc38b9f9",
     "grade": true,
     "grade_id": "cell-86885ea99e15a2f6",
     "locked": true,
     "points": 0,
     "schema_version": 3,
     "solution": false,
     "task": false
    }
   },
   "outputs": [],
   "source": [
    "# This cell is for grading"
   ]
  },
  {
   "attachments": {},
   "cell_type": "markdown",
   "metadata": {
    "deletable": false,
    "editable": false,
    "nbgrader": {
     "cell_type": "markdown",
     "checksum": "28c4cc5cfd5c8b12f6ad1e996d5ffbbf",
     "grade": false,
     "grade_id": "cell-cd26dbac2c7a4eb5",
     "locked": true,
     "schema_version": 3,
     "solution": false,
     "task": false
    }
   },
   "source": [
    "### Exercise 3.4: (6  points)\n",
    "\n",
    "Apply rotation matrix to the clusters and return the rotated clusters in a list. \n",
    "\n",
    "* Number of loops allowed in this exercise: 1 (to iterate over the clusters)"
   ]
  },
  {
   "cell_type": "code",
   "execution_count": 132,
   "metadata": {
    "deletable": false,
    "nbgrader": {
     "cell_type": "code",
     "checksum": "3c00495e43e50895f7f8dfc272e2c586",
     "grade": false,
     "grade_id": "rotate-clusters",
     "locked": false,
     "schema_version": 3,
     "solution": true,
     "task": false
    }
   },
   "outputs": [],
   "source": [
    "@no_imports\n",
    "@max_allowed_loops(1)\n",
    "def rotate_clusters(W_rot, clusters):\n",
    "    \"\"\"\n",
    "    Rotate all the datapoints in all the clusters\n",
    "\n",
    "    Args:\n",
    "        W_rot: The rotation matrix\n",
    "        clusters: The list of datapoints divided in clusters that\n",
    "        will be rotated\n",
    "\n",
    "    Returns:\n",
    "        The rotated datapoints divided by cluster\n",
    "    \"\"\"\n",
    "    # YOUR CODE HERE\n",
    "    return [np.dot(cluster, W_rot) for cluster in clusters]\n",
    "    # YOUR CODE HERE\n",
    "    "
   ]
  },
  {
   "cell_type": "code",
   "execution_count": 133,
   "metadata": {
    "deletable": false,
    "editable": false,
    "nbgrader": {
     "cell_type": "code",
     "checksum": "894957df9aaf7cf0954f17268b540ed3",
     "grade": true,
     "grade_id": "cell-55865e4e9560a59d",
     "locked": true,
     "points": 6,
     "schema_version": 3,
     "solution": false,
     "task": false
    }
   },
   "outputs": [
    {
     "name": "stdout",
     "output_type": "stream",
     "text": [
      "[array([[0.32320508, 0.15980762],\n",
      "       [0.18660254, 0.12320508]]), array([[1.14282032, 0.37942286],\n",
      "       [0.85621778, 0.0830127 ],\n",
      "       [0.86961524, 0.30621778]])]\n"
     ]
    }
   ],
   "source": [
    "rad = np.deg2rad(30)\n",
    "c, s = np.cos(rad), np.sin(rad)\n",
    "rot30 = np.array([[c, -s], [s, c]])\n",
    "tiny_clusters = [\n",
    "    np.array([[0.2, 0.3], [0.1, 0.2]]),\n",
    "    np.array([[0.8, 0.9], [0.7, 0.5], [0.6, 0.7]]),\n",
    "]\n",
    "tiny_rotated_result = rotate_clusters(rot30, tiny_clusters)\n",
    "print(tiny_rotated_result)\n",
    "tiny_rotated_expected = [\n",
    "    np.array([[0.32320508, 0.15980762], [0.18660254, 0.12320508]]),\n",
    "    np.array(\n",
    "        [[1.14282032, 0.37942286], [0.85621778, 0.0830127], [0.86961524, 0.30621778]]\n",
    "    ),\n",
    "]\n",
    "for r, e in zip(tiny_rotated_result, tiny_rotated_expected):\n",
    "    np.testing.assert_allclose(r, e)\n",
    "\n",
    "rot_tr_clusters = rotate_clusters(W_rot, tr_clusters)\n",
    "t.assertIsInstance(rot_tr_clusters, list)\n",
    "for norm, rotated in zip(tr_clusters, rot_tr_clusters):\n",
    "    t.assertIsInstance(rotated, np.ndarray)\n",
    "    t.assertEqual(norm.shape, rotated.shape)\n"
   ]
  },
  {
   "cell_type": "code",
   "execution_count": 134,
   "metadata": {
    "deletable": false,
    "editable": false,
    "nbgrader": {
     "cell_type": "code",
     "checksum": "bd3fa03a4b415d55a19ac640b42112aa",
     "grade": true,
     "grade_id": "cell-4df38298c0692336",
     "locked": true,
     "points": 0,
     "schema_version": 3,
     "solution": false,
     "task": false
    }
   },
   "outputs": [],
   "source": [
    "# This cell is for grading"
   ]
  },
  {
   "attachments": {},
   "cell_type": "markdown",
   "metadata": {
    "deletable": false,
    "editable": false,
    "nbgrader": {
     "cell_type": "markdown",
     "checksum": "9ee13ccdd9af75ee844c21ab80c51791",
     "grade": false,
     "grade_id": "cell-da2d1a30341ab871",
     "locked": true,
     "schema_version": 3,
     "solution": false,
     "task": false
    }
   },
   "source": [
    "### Goal\n",
    "\n",
    "Using the rotated clusters, we can now plot the clusters projected onto the axis with highest eigenvalue as histograms. Here we can draw a more accurate line separating the clusters than we could before. This line can be used for classifying data through drawing a simple line between clusters."
   ]
  },
  {
   "cell_type": "code",
   "execution_count": 135,
   "metadata": {
    "deletable": false,
    "editable": false,
    "nbgrader": {
     "cell_type": "code",
     "checksum": "4d6783f40a9bfeb26949705dc3c0207e",
     "grade": false,
     "grade_id": "cell-37c9f78313ddfbec",
     "locked": true,
     "schema_version": 3,
     "solution": false,
     "task": false
    }
   },
   "outputs": [
    {
     "data": {
      "image/png": "[encoded data removed]",
      "text/plain": [
       "<Figure size 800x800 with 1 Axes>"
      ]
     },
     "metadata": {},
     "output_type": "display_data"
    },
    {
     "name": "stdout",
     "output_type": "stream",
     "text": [
      "-5.185126267935378 14.676475370553998\n"
     ]
    },
    {
     "data": {
      "image/png": "[encoded data removed]",
      "text/plain": [
       "<Figure size 1400x500 with 1 Axes>"
      ]
     },
     "metadata": {},
     "output_type": "display_data"
    }
   ],
   "source": [
    "plot_scatter_and_mean(rot_tr_clusters, letters)\n",
    "means = calc_means(rot_tr_clusters)\n",
    "means\n",
    "plot_projection(rot_tr_clusters, letters, means, axis=max_axis)"
   ]
  },
  {
   "cell_type": "code",
   "execution_count": null,
   "metadata": {},
   "outputs": [],
   "source": []
  }
 ],
 "metadata": {
  "kernelspec": {
   "display_name": "Python 3.10.4 ('pymlsose')",
   "language": "python",
   "name": "python3"
  },
  "language_info": {
   "codemirror_mode": {
    "name": "ipython",
    "version": 3
   },
   "file_extension": ".py",
   "mimetype": "text/x-python",
   "name": "python",
   "nbconvert_exporter": "python",
   "pygments_lexer": "ipython3",
   "version": "3.11.3"
  },
  "vscode": {
   "interpreter": {
    "hash": "3b7837e62b9049ed1053017544f4fae907316b15adb741ae0ade272138f0f57a"
   }
  }
 },
 "nbformat": 4,
 "nbformat_minor": 2
}
